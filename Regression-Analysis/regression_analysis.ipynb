{
 "cells": [
  {
   "cell_type": "code",
   "execution_count": 1,
   "metadata": {},
   "outputs": [],
   "source": [
    "import numpy as np\n",
    "import pandas as pd\n",
    "from pathlib import Path\n",
    "%matplotlib inline"
   ]
  },
  {
   "cell_type": "markdown",
   "metadata": {},
   "source": [
    "# Regression Analysis\n",
    "In this notebook, I will build a SKLearn linear regression model to predict the Voyager Coin & coin prices using their respective return data and blockchain transaction detail."
   ]
  },
  {
   "cell_type": "code",
   "execution_count": 2,
   "metadata": {},
   "outputs": [
    {
     "data": {
      "text/html": [
       "<div>\n",
       "<style scoped>\n",
       "    .dataframe tbody tr th:only-of-type {\n",
       "        vertical-align: middle;\n",
       "    }\n",
       "\n",
       "    .dataframe tbody tr th {\n",
       "        vertical-align: top;\n",
       "    }\n",
       "\n",
       "    .dataframe thead th {\n",
       "        text-align: right;\n",
       "    }\n",
       "</style>\n",
       "<table border=\"1\" class=\"dataframe\">\n",
       "  <thead>\n",
       "    <tr style=\"text-align: right;\">\n",
       "      <th></th>\n",
       "      <th>snapped_at</th>\n",
       "      <th>price</th>\n",
       "      <th>market_cap</th>\n",
       "      <th>total_volume</th>\n",
       "    </tr>\n",
       "  </thead>\n",
       "  <tbody>\n",
       "    <tr>\n",
       "      <th>0</th>\n",
       "      <td>7/30/2017</td>\n",
       "      <td>0.042280</td>\n",
       "      <td>2900848.770</td>\n",
       "      <td>16525.59406</td>\n",
       "    </tr>\n",
       "    <tr>\n",
       "      <th>1</th>\n",
       "      <td>7/31/2017</td>\n",
       "      <td>0.039353</td>\n",
       "      <td>2700033.420</td>\n",
       "      <td>16889.51459</td>\n",
       "    </tr>\n",
       "    <tr>\n",
       "      <th>2</th>\n",
       "      <td>8/1/2017</td>\n",
       "      <td>0.040123</td>\n",
       "      <td>2752876.132</td>\n",
       "      <td>23723.20212</td>\n",
       "    </tr>\n",
       "    <tr>\n",
       "      <th>3</th>\n",
       "      <td>8/2/2017</td>\n",
       "      <td>0.040573</td>\n",
       "      <td>2783727.431</td>\n",
       "      <td>13405.73166</td>\n",
       "    </tr>\n",
       "    <tr>\n",
       "      <th>4</th>\n",
       "      <td>8/3/2017</td>\n",
       "      <td>0.039876</td>\n",
       "      <td>2735954.701</td>\n",
       "      <td>19997.47362</td>\n",
       "    </tr>\n",
       "  </tbody>\n",
       "</table>\n",
       "</div>"
      ],
      "text/plain": [
       "  snapped_at     price   market_cap  total_volume\n",
       "0  7/30/2017  0.042280  2900848.770   16525.59406\n",
       "1  7/31/2017  0.039353  2700033.420   16889.51459\n",
       "2   8/1/2017  0.040123  2752876.132   23723.20212\n",
       "3   8/2/2017  0.040573  2783727.431   13405.73166\n",
       "4   8/3/2017  0.039876  2735954.701   19997.47362"
      ]
     },
     "execution_count": 2,
     "metadata": {},
     "output_type": "execute_result"
    }
   ],
   "source": [
    "# Importing VGX Coin data off of Coingecko (Available from 2017-07-30)\n",
    "coin_price = pd.read_csv(\n",
    "    Path(\"Coin_Data.csv\")\n",
    ")\n",
    "\n",
    "\n",
    "\n",
    "coin_price.head()\n"
   ]
  },
  {
   "cell_type": "code",
   "execution_count": 3,
   "metadata": {},
   "outputs": [
    {
     "data": {
      "text/html": [
       "<div>\n",
       "<style scoped>\n",
       "    .dataframe tbody tr th:only-of-type {\n",
       "        vertical-align: middle;\n",
       "    }\n",
       "\n",
       "    .dataframe tbody tr th {\n",
       "        vertical-align: top;\n",
       "    }\n",
       "\n",
       "    .dataframe thead th {\n",
       "        text-align: right;\n",
       "    }\n",
       "</style>\n",
       "<table border=\"1\" class=\"dataframe\">\n",
       "  <thead>\n",
       "    <tr style=\"text-align: right;\">\n",
       "      <th></th>\n",
       "      <th>Open</th>\n",
       "      <th>High</th>\n",
       "      <th>Low</th>\n",
       "      <th>Close*</th>\n",
       "      <th>Adj Close**</th>\n",
       "      <th>Volume</th>\n",
       "    </tr>\n",
       "    <tr>\n",
       "      <th>Date</th>\n",
       "      <th></th>\n",
       "      <th></th>\n",
       "      <th></th>\n",
       "      <th></th>\n",
       "      <th></th>\n",
       "      <th></th>\n",
       "    </tr>\n",
       "  </thead>\n",
       "  <tbody>\n",
       "    <tr>\n",
       "      <th>2021-04-08</th>\n",
       "      <td>23.38</td>\n",
       "      <td>25.64</td>\n",
       "      <td>23.38</td>\n",
       "      <td>25.50</td>\n",
       "      <td>25.50</td>\n",
       "      <td>1,370,600</td>\n",
       "    </tr>\n",
       "    <tr>\n",
       "      <th>2021-04-07</th>\n",
       "      <td>25.90</td>\n",
       "      <td>27.43</td>\n",
       "      <td>22.90</td>\n",
       "      <td>23.02</td>\n",
       "      <td>23.02</td>\n",
       "      <td>2,402,900</td>\n",
       "    </tr>\n",
       "    <tr>\n",
       "      <th>2021-04-06</th>\n",
       "      <td>29.50</td>\n",
       "      <td>30.20</td>\n",
       "      <td>26.49</td>\n",
       "      <td>27.43</td>\n",
       "      <td>27.43</td>\n",
       "      <td>1,542,000</td>\n",
       "    </tr>\n",
       "    <tr>\n",
       "      <th>2021-04-05</th>\n",
       "      <td>27.85</td>\n",
       "      <td>29.85</td>\n",
       "      <td>27.40</td>\n",
       "      <td>29.00</td>\n",
       "      <td>29.00</td>\n",
       "      <td>1,322,200</td>\n",
       "    </tr>\n",
       "    <tr>\n",
       "      <th>2021-04-01</th>\n",
       "      <td>26.26</td>\n",
       "      <td>27.88</td>\n",
       "      <td>26.15</td>\n",
       "      <td>27.39</td>\n",
       "      <td>27.39</td>\n",
       "      <td>1,238,200</td>\n",
       "    </tr>\n",
       "  </tbody>\n",
       "</table>\n",
       "</div>"
      ],
      "text/plain": [
       "             Open   High    Low  Close*  Adj Close**     Volume\n",
       "Date                                                           \n",
       "2021-04-08  23.38  25.64  23.38   25.50        25.50  1,370,600\n",
       "2021-04-07  25.90  27.43  22.90   23.02        23.02  2,402,900\n",
       "2021-04-06  29.50  30.20  26.49   27.43        27.43  1,542,000\n",
       "2021-04-05  27.85  29.85  27.40   29.00        29.00  1,322,200\n",
       "2021-04-01  26.26  27.88  26.15   27.39        27.39  1,238,200"
      ]
     },
     "execution_count": 3,
     "metadata": {},
     "output_type": "execute_result"
    }
   ],
   "source": [
    "# Importing VYGF Stcok data off of Yahoo Finanace (Available from 2021-04-08)\n",
    "stock_price = pd.read_csv(\n",
    "    Path(\"Stock_Data.csv\"), index_col=\"Date\", infer_datetime_format=True, parse_dates=True\n",
    ")\n",
    "stock_price.tail()"
   ]
  },
  {
   "cell_type": "code",
   "execution_count": 4,
   "metadata": {},
   "outputs": [
    {
     "data": {
      "text/html": [
       "<div>\n",
       "<style scoped>\n",
       "    .dataframe tbody tr th:only-of-type {\n",
       "        vertical-align: middle;\n",
       "    }\n",
       "\n",
       "    .dataframe tbody tr th {\n",
       "        vertical-align: top;\n",
       "    }\n",
       "\n",
       "    .dataframe thead th {\n",
       "        text-align: right;\n",
       "    }\n",
       "</style>\n",
       "<table border=\"1\" class=\"dataframe\">\n",
       "  <thead>\n",
       "    <tr style=\"text-align: right;\">\n",
       "      <th></th>\n",
       "      <th>Close</th>\n",
       "      <th>Volume</th>\n",
       "      <th>Return</th>\n",
       "    </tr>\n",
       "    <tr>\n",
       "      <th>Date</th>\n",
       "      <th></th>\n",
       "      <th></th>\n",
       "      <th></th>\n",
       "    </tr>\n",
       "  </thead>\n",
       "  <tbody>\n",
       "    <tr>\n",
       "      <th>2021-10-30</th>\n",
       "      <td>3.051938</td>\n",
       "      <td>2.301751e+07</td>\n",
       "      <td>3.084294</td>\n",
       "    </tr>\n",
       "    <tr>\n",
       "      <th>2021-10-31</th>\n",
       "      <td>2.822278</td>\n",
       "      <td>1.148685e+07</td>\n",
       "      <td>-7.525075</td>\n",
       "    </tr>\n",
       "    <tr>\n",
       "      <th>2021-11-01</th>\n",
       "      <td>2.954710</td>\n",
       "      <td>7.186877e+06</td>\n",
       "      <td>4.692393</td>\n",
       "    </tr>\n",
       "    <tr>\n",
       "      <th>2021-11-02</th>\n",
       "      <td>2.733736</td>\n",
       "      <td>6.312411e+06</td>\n",
       "      <td>-7.478695</td>\n",
       "    </tr>\n",
       "    <tr>\n",
       "      <th>2021-11-03</th>\n",
       "      <td>2.690162</td>\n",
       "      <td>5.203703e+06</td>\n",
       "      <td>-1.593949</td>\n",
       "    </tr>\n",
       "  </tbody>\n",
       "</table>\n",
       "</div>"
      ],
      "text/plain": [
       "               Close        Volume    Return\n",
       "Date                                        \n",
       "2021-10-30  3.051938  2.301751e+07  3.084294\n",
       "2021-10-31  2.822278  1.148685e+07 -7.525075\n",
       "2021-11-01  2.954710  7.186877e+06  4.692393\n",
       "2021-11-02  2.733736  6.312411e+06 -7.478695\n",
       "2021-11-03  2.690162  5.203703e+06 -1.593949"
      ]
     },
     "execution_count": 4,
     "metadata": {},
     "output_type": "execute_result"
    }
   ],
   "source": [
    "# Formatting the DFs\n",
    "\n",
    "coin_price = coin_price.rename(columns = {'snapped_at':'Date','price':'Close','total_volume':'Volume'})\n",
    "coin_price['Return'] = coin_price['Close'].pct_change()*100\n",
    "coin_price = coin_price.dropna()\n",
    "coin_price = coin_price[['Date','Close','Volume','Return']]\n",
    "coin_price['Date'] = pd.to_datetime(coin_price['Date'])\n",
    "coin_price = coin_price.set_index('Date')\n",
    "coin_price.tail()\n"
   ]
  },
  {
   "cell_type": "code",
   "execution_count": 5,
   "metadata": {},
   "outputs": [
    {
     "data": {
      "text/html": [
       "<div>\n",
       "<style scoped>\n",
       "    .dataframe tbody tr th:only-of-type {\n",
       "        vertical-align: middle;\n",
       "    }\n",
       "\n",
       "    .dataframe tbody tr th {\n",
       "        vertical-align: top;\n",
       "    }\n",
       "\n",
       "    .dataframe thead th {\n",
       "        text-align: right;\n",
       "    }\n",
       "</style>\n",
       "<table border=\"1\" class=\"dataframe\">\n",
       "  <thead>\n",
       "    <tr style=\"text-align: right;\">\n",
       "      <th></th>\n",
       "      <th>Close</th>\n",
       "      <th>Volume</th>\n",
       "      <th>Return</th>\n",
       "      <th>Lagged Return</th>\n",
       "    </tr>\n",
       "    <tr>\n",
       "      <th>Date</th>\n",
       "      <th></th>\n",
       "      <th></th>\n",
       "      <th></th>\n",
       "      <th></th>\n",
       "    </tr>\n",
       "  </thead>\n",
       "  <tbody>\n",
       "    <tr>\n",
       "      <th>2017-08-01</th>\n",
       "      <td>0.040123</td>\n",
       "      <td>23723.20212</td>\n",
       "      <td>1.957113</td>\n",
       "      <td>-6.922640</td>\n",
       "    </tr>\n",
       "    <tr>\n",
       "      <th>2017-08-02</th>\n",
       "      <td>0.040573</td>\n",
       "      <td>13405.73166</td>\n",
       "      <td>1.120694</td>\n",
       "      <td>1.957113</td>\n",
       "    </tr>\n",
       "    <tr>\n",
       "      <th>2017-08-03</th>\n",
       "      <td>0.039876</td>\n",
       "      <td>19997.47362</td>\n",
       "      <td>-1.716144</td>\n",
       "      <td>1.120694</td>\n",
       "    </tr>\n",
       "    <tr>\n",
       "      <th>2017-08-04</th>\n",
       "      <td>0.044082</td>\n",
       "      <td>19455.90155</td>\n",
       "      <td>10.545653</td>\n",
       "      <td>-1.716144</td>\n",
       "    </tr>\n",
       "    <tr>\n",
       "      <th>2017-08-05</th>\n",
       "      <td>0.064873</td>\n",
       "      <td>50014.42697</td>\n",
       "      <td>47.164568</td>\n",
       "      <td>10.545653</td>\n",
       "    </tr>\n",
       "  </tbody>\n",
       "</table>\n",
       "</div>"
      ],
      "text/plain": [
       "               Close       Volume     Return  Lagged Return\n",
       "Date                                                       \n",
       "2017-08-01  0.040123  23723.20212   1.957113      -6.922640\n",
       "2017-08-02  0.040573  13405.73166   1.120694       1.957113\n",
       "2017-08-03  0.039876  19997.47362  -1.716144       1.120694\n",
       "2017-08-04  0.044082  19455.90155  10.545653      -1.716144\n",
       "2017-08-05  0.064873  50014.42697  47.164568      10.545653"
      ]
     },
     "execution_count": 5,
     "metadata": {},
     "output_type": "execute_result"
    }
   ],
   "source": [
    "coin_price['Lagged Return'] = coin_price['Return'].shift()\n",
    "coin_price = coin_price.dropna()\n",
    "coin_price.head()"
   ]
  },
  {
   "cell_type": "code",
   "execution_count": null,
   "metadata": {},
   "outputs": [],
   "source": []
  },
  {
   "cell_type": "code",
   "execution_count": 6,
   "metadata": {},
   "outputs": [
    {
     "data": {
      "text/html": [
       "<div>\n",
       "<style scoped>\n",
       "    .dataframe tbody tr th:only-of-type {\n",
       "        vertical-align: middle;\n",
       "    }\n",
       "\n",
       "    .dataframe tbody tr th {\n",
       "        vertical-align: top;\n",
       "    }\n",
       "\n",
       "    .dataframe thead th {\n",
       "        text-align: right;\n",
       "    }\n",
       "</style>\n",
       "<table border=\"1\" class=\"dataframe\">\n",
       "  <thead>\n",
       "    <tr style=\"text-align: right;\">\n",
       "      <th></th>\n",
       "      <th>Close</th>\n",
       "      <th>Volume</th>\n",
       "      <th>Return</th>\n",
       "    </tr>\n",
       "    <tr>\n",
       "      <th>Date</th>\n",
       "      <th></th>\n",
       "      <th></th>\n",
       "      <th></th>\n",
       "    </tr>\n",
       "  </thead>\n",
       "  <tbody>\n",
       "    <tr>\n",
       "      <th>2021-10-29</th>\n",
       "      <td>15.45</td>\n",
       "      <td>2,918,100</td>\n",
       "      <td>5.821918</td>\n",
       "    </tr>\n",
       "    <tr>\n",
       "      <th>2021-10-28</th>\n",
       "      <td>14.21</td>\n",
       "      <td>4,277,100</td>\n",
       "      <td>-8.025890</td>\n",
       "    </tr>\n",
       "    <tr>\n",
       "      <th>2021-10-27</th>\n",
       "      <td>10.35</td>\n",
       "      <td>2,580,100</td>\n",
       "      <td>-27.163969</td>\n",
       "    </tr>\n",
       "    <tr>\n",
       "      <th>2021-10-26</th>\n",
       "      <td>9.14</td>\n",
       "      <td>898,500</td>\n",
       "      <td>-11.690821</td>\n",
       "    </tr>\n",
       "    <tr>\n",
       "      <th>2021-10-25</th>\n",
       "      <td>9.52</td>\n",
       "      <td>778,000</td>\n",
       "      <td>4.157549</td>\n",
       "    </tr>\n",
       "  </tbody>\n",
       "</table>\n",
       "</div>"
      ],
      "text/plain": [
       "            Close     Volume     Return\n",
       "Date                                   \n",
       "2021-10-29  15.45  2,918,100   5.821918\n",
       "2021-10-28  14.21  4,277,100  -8.025890\n",
       "2021-10-27  10.35  2,580,100 -27.163969\n",
       "2021-10-26   9.14    898,500 -11.690821\n",
       "2021-10-25   9.52    778,000   4.157549"
      ]
     },
     "execution_count": 6,
     "metadata": {},
     "output_type": "execute_result"
    }
   ],
   "source": [
    "# Formatting the DFs\n",
    "\n",
    "stock_price = stock_price.rename(columns = {'Close*':'Close'})\n",
    "stock_price['Return'] = stock_price['Close'].pct_change()*100\n",
    "stock_price = stock_price.dropna()\n",
    "stock_price = stock_price[['Close','Volume','Return']]\n",
    "stock_price.head()"
   ]
  },
  {
   "cell_type": "code",
   "execution_count": 7,
   "metadata": {},
   "outputs": [
    {
     "data": {
      "text/html": [
       "<div>\n",
       "<style scoped>\n",
       "    .dataframe tbody tr th:only-of-type {\n",
       "        vertical-align: middle;\n",
       "    }\n",
       "\n",
       "    .dataframe tbody tr th {\n",
       "        vertical-align: top;\n",
       "    }\n",
       "\n",
       "    .dataframe thead th {\n",
       "        text-align: right;\n",
       "    }\n",
       "</style>\n",
       "<table border=\"1\" class=\"dataframe\">\n",
       "  <thead>\n",
       "    <tr style=\"text-align: right;\">\n",
       "      <th></th>\n",
       "      <th>Close</th>\n",
       "      <th>Volume</th>\n",
       "      <th>Return</th>\n",
       "      <th>Lagged Return</th>\n",
       "    </tr>\n",
       "    <tr>\n",
       "      <th>Date</th>\n",
       "      <th></th>\n",
       "      <th></th>\n",
       "      <th></th>\n",
       "      <th></th>\n",
       "    </tr>\n",
       "  </thead>\n",
       "  <tbody>\n",
       "    <tr>\n",
       "      <th>2021-10-28</th>\n",
       "      <td>14.21</td>\n",
       "      <td>4,277,100</td>\n",
       "      <td>-8.025890</td>\n",
       "      <td>5.821918</td>\n",
       "    </tr>\n",
       "    <tr>\n",
       "      <th>2021-10-27</th>\n",
       "      <td>10.35</td>\n",
       "      <td>2,580,100</td>\n",
       "      <td>-27.163969</td>\n",
       "      <td>-8.025890</td>\n",
       "    </tr>\n",
       "    <tr>\n",
       "      <th>2021-10-26</th>\n",
       "      <td>9.14</td>\n",
       "      <td>898,500</td>\n",
       "      <td>-11.690821</td>\n",
       "      <td>-27.163969</td>\n",
       "    </tr>\n",
       "    <tr>\n",
       "      <th>2021-10-25</th>\n",
       "      <td>9.52</td>\n",
       "      <td>778,000</td>\n",
       "      <td>4.157549</td>\n",
       "      <td>-11.690821</td>\n",
       "    </tr>\n",
       "    <tr>\n",
       "      <th>2021-10-22</th>\n",
       "      <td>9.76</td>\n",
       "      <td>829,400</td>\n",
       "      <td>2.521008</td>\n",
       "      <td>4.157549</td>\n",
       "    </tr>\n",
       "  </tbody>\n",
       "</table>\n",
       "</div>"
      ],
      "text/plain": [
       "            Close     Volume     Return  Lagged Return\n",
       "Date                                                  \n",
       "2021-10-28  14.21  4,277,100  -8.025890       5.821918\n",
       "2021-10-27  10.35  2,580,100 -27.163969      -8.025890\n",
       "2021-10-26   9.14    898,500 -11.690821     -27.163969\n",
       "2021-10-25   9.52    778,000   4.157549     -11.690821\n",
       "2021-10-22   9.76    829,400   2.521008       4.157549"
      ]
     },
     "execution_count": 7,
     "metadata": {},
     "output_type": "execute_result"
    }
   ],
   "source": [
    "stock_price['Lagged Return'] = stock_price['Return'].shift()\n",
    "stock_price = stock_price.dropna()\n",
    "stock_price.head()"
   ]
  },
  {
   "cell_type": "code",
   "execution_count": 8,
   "metadata": {},
   "outputs": [
    {
     "data": {
      "text/html": [
       "<div>\n",
       "<style scoped>\n",
       "    .dataframe tbody tr th:only-of-type {\n",
       "        vertical-align: middle;\n",
       "    }\n",
       "\n",
       "    .dataframe tbody tr th {\n",
       "        vertical-align: top;\n",
       "    }\n",
       "\n",
       "    .dataframe thead th {\n",
       "        text-align: right;\n",
       "    }\n",
       "</style>\n",
       "<table border=\"1\" class=\"dataframe\">\n",
       "  <thead>\n",
       "    <tr style=\"text-align: right;\">\n",
       "      <th></th>\n",
       "      <th>Stock Return</th>\n",
       "      <th>Lagged Return</th>\n",
       "      <th>Coin Return</th>\n",
       "    </tr>\n",
       "    <tr>\n",
       "      <th>Date</th>\n",
       "      <th></th>\n",
       "      <th></th>\n",
       "      <th></th>\n",
       "    </tr>\n",
       "  </thead>\n",
       "  <tbody>\n",
       "    <tr>\n",
       "      <th>2021-10-28</th>\n",
       "      <td>-8.025890</td>\n",
       "      <td>5.821918</td>\n",
       "      <td>4.642487</td>\n",
       "    </tr>\n",
       "    <tr>\n",
       "      <th>2021-10-27</th>\n",
       "      <td>-27.163969</td>\n",
       "      <td>-8.025890</td>\n",
       "      <td>-6.054528</td>\n",
       "    </tr>\n",
       "    <tr>\n",
       "      <th>2021-10-26</th>\n",
       "      <td>-11.690821</td>\n",
       "      <td>-27.163969</td>\n",
       "      <td>-0.861741</td>\n",
       "    </tr>\n",
       "    <tr>\n",
       "      <th>2021-10-25</th>\n",
       "      <td>4.157549</td>\n",
       "      <td>-11.690821</td>\n",
       "      <td>-3.594475</td>\n",
       "    </tr>\n",
       "    <tr>\n",
       "      <th>2021-10-22</th>\n",
       "      <td>2.521008</td>\n",
       "      <td>4.157549</td>\n",
       "      <td>-3.996880</td>\n",
       "    </tr>\n",
       "  </tbody>\n",
       "</table>\n",
       "</div>"
      ],
      "text/plain": [
       "            Stock Return  Lagged Return  Coin Return\n",
       "Date                                                \n",
       "2021-10-28     -8.025890       5.821918     4.642487\n",
       "2021-10-27    -27.163969      -8.025890    -6.054528\n",
       "2021-10-26    -11.690821     -27.163969    -0.861741\n",
       "2021-10-25      4.157549     -11.690821    -3.594475\n",
       "2021-10-22      2.521008       4.157549    -3.996880"
      ]
     },
     "execution_count": 8,
     "metadata": {},
     "output_type": "execute_result"
    }
   ],
   "source": [
    "#Create DataFrame that will be used to predict prices\n",
    "predict_df = stock_price.merge(coin_price['Return'],on=\"Date\",how=\"left\")\n",
    "predict_df = predict_df.rename(columns={\"Return_x\":\"Stock Return\",\"Return_y\":\"Coin Return\"})\n",
    "predict_df = predict_df.drop(['Close'],axis=1)\n",
    "predict_df = predict_df.drop(['Volume'],axis=1)\n",
    "predict_df.head()"
   ]
  },
  {
   "cell_type": "code",
   "execution_count": 9,
   "metadata": {},
   "outputs": [
    {
     "data": {
      "text/html": [
       "<div>\n",
       "<style scoped>\n",
       "    .dataframe tbody tr th:only-of-type {\n",
       "        vertical-align: middle;\n",
       "    }\n",
       "\n",
       "    .dataframe tbody tr th {\n",
       "        vertical-align: top;\n",
       "    }\n",
       "\n",
       "    .dataframe thead th {\n",
       "        text-align: right;\n",
       "    }\n",
       "</style>\n",
       "<table border=\"1\" class=\"dataframe\">\n",
       "  <thead>\n",
       "    <tr style=\"text-align: right;\">\n",
       "      <th></th>\n",
       "      <th>Stock Return</th>\n",
       "      <th>Stock Lagged Return</th>\n",
       "      <th>Coin Return</th>\n",
       "      <th>Coin Lagged Return</th>\n",
       "    </tr>\n",
       "    <tr>\n",
       "      <th>Date</th>\n",
       "      <th></th>\n",
       "      <th></th>\n",
       "      <th></th>\n",
       "      <th></th>\n",
       "    </tr>\n",
       "  </thead>\n",
       "  <tbody>\n",
       "    <tr>\n",
       "      <th>2021-10-28</th>\n",
       "      <td>-8.025890</td>\n",
       "      <td>5.821918</td>\n",
       "      <td>4.642487</td>\n",
       "      <td>-6.054528</td>\n",
       "    </tr>\n",
       "    <tr>\n",
       "      <th>2021-10-27</th>\n",
       "      <td>-27.163969</td>\n",
       "      <td>-8.025890</td>\n",
       "      <td>-6.054528</td>\n",
       "      <td>-0.861741</td>\n",
       "    </tr>\n",
       "    <tr>\n",
       "      <th>2021-10-26</th>\n",
       "      <td>-11.690821</td>\n",
       "      <td>-27.163969</td>\n",
       "      <td>-0.861741</td>\n",
       "      <td>-3.594475</td>\n",
       "    </tr>\n",
       "    <tr>\n",
       "      <th>2021-10-25</th>\n",
       "      <td>4.157549</td>\n",
       "      <td>-11.690821</td>\n",
       "      <td>-3.594475</td>\n",
       "      <td>3.334063</td>\n",
       "    </tr>\n",
       "    <tr>\n",
       "      <th>2021-10-22</th>\n",
       "      <td>2.521008</td>\n",
       "      <td>4.157549</td>\n",
       "      <td>-3.996880</td>\n",
       "      <td>3.433621</td>\n",
       "    </tr>\n",
       "  </tbody>\n",
       "</table>\n",
       "</div>"
      ],
      "text/plain": [
       "            Stock Return  Stock Lagged Return  Coin Return  Coin Lagged Return\n",
       "Date                                                                          \n",
       "2021-10-28     -8.025890             5.821918     4.642487           -6.054528\n",
       "2021-10-27    -27.163969            -8.025890    -6.054528           -0.861741\n",
       "2021-10-26    -11.690821           -27.163969    -0.861741           -3.594475\n",
       "2021-10-25      4.157549           -11.690821    -3.594475            3.334063\n",
       "2021-10-22      2.521008             4.157549    -3.996880            3.433621"
      ]
     },
     "execution_count": 9,
     "metadata": {},
     "output_type": "execute_result"
    }
   ],
   "source": [
    "predict_df = predict_df.rename(columns={'Lagged Return':'Stock Lagged Return'})\n",
    "predict_df = predict_df.merge(coin_price['Lagged Return'],on='Date',how='left')\n",
    "predict_df = predict_df.rename(columns={'Lagged Return':'Coin Lagged Return'})\n",
    "predict_df.head()"
   ]
  },
  {
   "cell_type": "code",
   "execution_count": 10,
   "metadata": {},
   "outputs": [
    {
     "data": {
      "text/plain": [
       "Stock Return           147\n",
       "Stock Lagged Return    147\n",
       "Coin Return            147\n",
       "Coin Lagged Return     147\n",
       "dtype: int64"
      ]
     },
     "execution_count": 10,
     "metadata": {},
     "output_type": "execute_result"
    }
   ],
   "source": [
    "# Find midpoint of the dataset\n",
    "predict_df.count()"
   ]
  },
  {
   "cell_type": "code",
   "execution_count": 11,
   "metadata": {},
   "outputs": [
    {
     "data": {
      "text/plain": [
       "Stock Return           1.478261\n",
       "Stock Lagged Return    0.965759\n",
       "Coin Return           -1.885702\n",
       "Coin Lagged Return    -3.278347\n",
       "Name: 2021-07-15 00:00:00, dtype: float64"
      ]
     },
     "execution_count": 11,
     "metadata": {},
     "output_type": "execute_result"
    }
   ],
   "source": [
    "predict_df.iloc[74]"
   ]
  },
  {
   "cell_type": "markdown",
   "metadata": {},
   "source": [
    "### Returns"
   ]
  },
  {
   "cell_type": "markdown",
   "metadata": {},
   "source": [
    "### Train Test Split"
   ]
  },
  {
   "cell_type": "code",
   "execution_count": 12,
   "metadata": {},
   "outputs": [
    {
     "name": "stdout",
     "output_type": "stream",
     "text": [
      "Stock Return           74\n",
      "Stock Lagged Return    74\n",
      "Coin Return            74\n",
      "Coin Lagged Return     74\n",
      "dtype: int64\n",
      "Stock Return           74\n",
      "Stock Lagged Return    74\n",
      "Coin Return            74\n",
      "Coin Lagged Return     74\n",
      "dtype: int64\n"
     ]
    },
    {
     "name": "stderr",
     "output_type": "stream",
     "text": [
      "<ipython-input-12-ad8135f2638a>:2: FutureWarning: Value based partial slicing on non-monotonic DatetimeIndexes with non-existing keys is deprecated and will raise a KeyError in a future Version.\n",
      "  test = predict_df['2021-07-15':]\n"
     ]
    }
   ],
   "source": [
    "# Create a train/test split for the data using 2018-2019 for testing and the rest for training\n",
    "test = predict_df['2021-07-15':]\n",
    "train = predict_df[:'2021-07-16']\n",
    "print(train.count())\n",
    "print(test.count())"
   ]
  },
  {
   "cell_type": "code",
   "execution_count": 13,
   "metadata": {},
   "outputs": [],
   "source": [
    "# First we will use the coin return to predict the stock return\n",
    "# Create four dataframes:\n",
    "# X_train (training set using just the independent variables), X_test (test set of of just the independent variables)\n",
    "stock_x_train = train['Coin Lagged Return'].to_frame()\n",
    "stock_x_test = test['Coin Lagged Return'].to_frame()\n",
    "# Y_train (training set using just the \"y\" variable, i.e., \"Futures Return\"), Y_test (test set of just the \"y\" variable):\n",
    "stock_y_train = train['Stock Return'].to_frame()\n",
    "stock_y_test = test['Stock Return'].to_frame()"
   ]
  },
  {
   "cell_type": "markdown",
   "metadata": {},
   "source": [
    "# Linear Regression Model"
   ]
  },
  {
   "cell_type": "code",
   "execution_count": 14,
   "metadata": {},
   "outputs": [
    {
     "data": {
      "text/plain": [
       "LinearRegression()"
      ]
     },
     "execution_count": 14,
     "metadata": {},
     "output_type": "execute_result"
    }
   ],
   "source": [
    "# Create a Linear Regression model and fit it to the training data\n",
    "from sklearn.linear_model import LinearRegression\n",
    "\n",
    "# Fit a SKLearn linear regression using just the training set (X_train, Y_train):\n",
    "stock_model = LinearRegression()\n",
    "stock_model.fit(stock_x_train, stock_y_train)"
   ]
  },
  {
   "cell_type": "markdown",
   "metadata": {},
   "source": [
    "# Make predictions using the Testing Data\n",
    "\n",
    "Note: We want to evaluate the model using data that it has never seen before, in this case: X_test."
   ]
  },
  {
   "cell_type": "code",
   "execution_count": 15,
   "metadata": {},
   "outputs": [],
   "source": [
    "# Make a prediction of \"y\" values using just the test dataset\n",
    "stock_predictions = stock_model.predict(stock_x_test)"
   ]
  },
  {
   "cell_type": "code",
   "execution_count": 16,
   "metadata": {},
   "outputs": [
    {
     "data": {
      "text/html": [
       "<div>\n",
       "<style scoped>\n",
       "    .dataframe tbody tr th:only-of-type {\n",
       "        vertical-align: middle;\n",
       "    }\n",
       "\n",
       "    .dataframe tbody tr th {\n",
       "        vertical-align: top;\n",
       "    }\n",
       "\n",
       "    .dataframe thead th {\n",
       "        text-align: right;\n",
       "    }\n",
       "</style>\n",
       "<table border=\"1\" class=\"dataframe\">\n",
       "  <thead>\n",
       "    <tr style=\"text-align: right;\">\n",
       "      <th></th>\n",
       "      <th>Stock Return</th>\n",
       "      <th>Predicted Stock Return</th>\n",
       "    </tr>\n",
       "    <tr>\n",
       "      <th>Date</th>\n",
       "      <th></th>\n",
       "      <th></th>\n",
       "    </tr>\n",
       "  </thead>\n",
       "  <tbody>\n",
       "    <tr>\n",
       "      <th>2021-10-28</th>\n",
       "      <td>-8.025890</td>\n",
       "      <td>0.392023</td>\n",
       "    </tr>\n",
       "    <tr>\n",
       "      <th>2021-10-27</th>\n",
       "      <td>-27.163969</td>\n",
       "      <td>1.216847</td>\n",
       "    </tr>\n",
       "    <tr>\n",
       "      <th>2021-10-26</th>\n",
       "      <td>-11.690821</td>\n",
       "      <td>0.782778</td>\n",
       "    </tr>\n",
       "    <tr>\n",
       "      <th>2021-10-25</th>\n",
       "      <td>4.157549</td>\n",
       "      <td>1.883310</td>\n",
       "    </tr>\n",
       "    <tr>\n",
       "      <th>2021-10-22</th>\n",
       "      <td>2.521008</td>\n",
       "      <td>1.899124</td>\n",
       "    </tr>\n",
       "  </tbody>\n",
       "</table>\n",
       "</div>"
      ],
      "text/plain": [
       "            Stock Return  Predicted Stock Return\n",
       "Date                                            \n",
       "2021-10-28     -8.025890                0.392023\n",
       "2021-10-27    -27.163969                1.216847\n",
       "2021-10-26    -11.690821                0.782778\n",
       "2021-10-25      4.157549                1.883310\n",
       "2021-10-22      2.521008                1.899124"
      ]
     },
     "execution_count": 16,
     "metadata": {},
     "output_type": "execute_result"
    }
   ],
   "source": [
    "# Assemble actual y data (Y_test) with predicted y data (from just above) into two columns in a dataframe:\n",
    "stock_results = stock_y_test\n",
    "stock_results['Predicted Stock Return'] = stock_predictions\n",
    "stock_results.head()"
   ]
  },
  {
   "cell_type": "code",
   "execution_count": 17,
   "metadata": {},
   "outputs": [
    {
     "data": {
      "text/plain": [
       "<matplotlib.axes._subplots.AxesSubplot at 0x2babf1e11f0>"
      ]
     },
     "execution_count": 17,
     "metadata": {},
     "output_type": "execute_result"
    },
    {
     "data": {
      "image/png": "[encoded data removed]",
      "text/plain": [
       "<Figure size 432x288 with 1 Axes>"
      ]
     },
     "metadata": {
      "needs_background": "light"
     },
     "output_type": "display_data"
    }
   ],
   "source": [
    "# Plot the predictions vs the true values\n",
    "stock_results.plot(title=\"Stock Price vs Prediction\")"
   ]
  },
  {
   "cell_type": "code",
   "execution_count": 18,
   "metadata": {},
   "outputs": [
    {
     "data": {
      "text/html": [
       "<div>\n",
       "<style scoped>\n",
       "    .dataframe tbody tr th:only-of-type {\n",
       "        vertical-align: middle;\n",
       "    }\n",
       "\n",
       "    .dataframe tbody tr th {\n",
       "        vertical-align: top;\n",
       "    }\n",
       "\n",
       "    .dataframe thead th {\n",
       "        text-align: right;\n",
       "    }\n",
       "</style>\n",
       "<table border=\"1\" class=\"dataframe\">\n",
       "  <thead>\n",
       "    <tr style=\"text-align: right;\">\n",
       "      <th></th>\n",
       "      <th>Stock Return</th>\n",
       "      <th>Predicted Stock Return</th>\n",
       "    </tr>\n",
       "  </thead>\n",
       "  <tbody>\n",
       "    <tr>\n",
       "      <th>count</th>\n",
       "      <td>74.000000</td>\n",
       "      <td>74.000000</td>\n",
       "    </tr>\n",
       "    <tr>\n",
       "      <th>mean</th>\n",
       "      <td>-0.201225</td>\n",
       "      <td>4.711376</td>\n",
       "    </tr>\n",
       "    <tr>\n",
       "      <th>std</th>\n",
       "      <td>6.120771</td>\n",
       "      <td>27.931044</td>\n",
       "    </tr>\n",
       "    <tr>\n",
       "      <th>min</th>\n",
       "      <td>-27.163969</td>\n",
       "      <td>-0.641137</td>\n",
       "    </tr>\n",
       "    <tr>\n",
       "      <th>25%</th>\n",
       "      <td>-3.192239</td>\n",
       "      <td>0.582491</td>\n",
       "    </tr>\n",
       "    <tr>\n",
       "      <th>50%</th>\n",
       "      <td>-0.108932</td>\n",
       "      <td>1.227329</td>\n",
       "    </tr>\n",
       "    <tr>\n",
       "      <th>75%</th>\n",
       "      <td>4.128800</td>\n",
       "      <td>1.895170</td>\n",
       "    </tr>\n",
       "    <tr>\n",
       "      <th>max</th>\n",
       "      <td>9.816850</td>\n",
       "      <td>241.472419</td>\n",
       "    </tr>\n",
       "  </tbody>\n",
       "</table>\n",
       "</div>"
      ],
      "text/plain": [
       "       Stock Return  Predicted Stock Return\n",
       "count     74.000000               74.000000\n",
       "mean      -0.201225                4.711376\n",
       "std        6.120771               27.931044\n",
       "min      -27.163969               -0.641137\n",
       "25%       -3.192239                0.582491\n",
       "50%       -0.108932                1.227329\n",
       "75%        4.128800                1.895170\n",
       "max        9.816850              241.472419"
      ]
     },
     "execution_count": 18,
     "metadata": {},
     "output_type": "execute_result"
    }
   ],
   "source": [
    "stock_results.describe()"
   ]
  },
  {
   "cell_type": "code",
   "execution_count": 19,
   "metadata": {},
   "outputs": [],
   "source": [
    "# Next we will use the stock return to predict the coin return\n",
    "# Create four dataframes:\n",
    "# X_train (training set using just the independent variables), X_test (test set of of just the independent variables)\n",
    "coin_x_train = train['Stock Lagged Return'].to_frame()\n",
    "coin_x_test = test['Stock Lagged Return'].to_frame()\n",
    "# Y_train (training set using just the \"y\" variable, i.e., \"Futures Return\"), Y_test (test set of just the \"y\" variable):\n",
    "coin_y_train = train['Coin Return'].to_frame()\n",
    "coin_y_test = test['Coin Return'].to_frame()"
   ]
  },
  {
   "cell_type": "code",
   "execution_count": 20,
   "metadata": {},
   "outputs": [
    {
     "data": {
      "text/plain": [
       "LinearRegression()"
      ]
     },
     "execution_count": 20,
     "metadata": {},
     "output_type": "execute_result"
    }
   ],
   "source": [
    "# Fit a SKLearn linear regression using just the training set (X_train, Y_train):\n",
    "coin_model = LinearRegression()\n",
    "coin_model.fit(coin_x_train, coin_y_train)"
   ]
  },
  {
   "cell_type": "code",
   "execution_count": 21,
   "metadata": {},
   "outputs": [],
   "source": [
    "# Make a prediction of \"y\" values using just the test dataset\n",
    "coin_predictions = coin_model.predict(coin_x_test)"
   ]
  },
  {
   "cell_type": "code",
   "execution_count": 22,
   "metadata": {},
   "outputs": [
    {
     "data": {
      "text/html": [
       "<div>\n",
       "<style scoped>\n",
       "    .dataframe tbody tr th:only-of-type {\n",
       "        vertical-align: middle;\n",
       "    }\n",
       "\n",
       "    .dataframe tbody tr th {\n",
       "        vertical-align: top;\n",
       "    }\n",
       "\n",
       "    .dataframe thead th {\n",
       "        text-align: right;\n",
       "    }\n",
       "</style>\n",
       "<table border=\"1\" class=\"dataframe\">\n",
       "  <thead>\n",
       "    <tr style=\"text-align: right;\">\n",
       "      <th></th>\n",
       "      <th>Coin Return</th>\n",
       "      <th>Predicted Coin Return</th>\n",
       "    </tr>\n",
       "    <tr>\n",
       "      <th>Date</th>\n",
       "      <th></th>\n",
       "      <th></th>\n",
       "    </tr>\n",
       "  </thead>\n",
       "  <tbody>\n",
       "    <tr>\n",
       "      <th>2021-10-28</th>\n",
       "      <td>4.642487</td>\n",
       "      <td>0.946658</td>\n",
       "    </tr>\n",
       "    <tr>\n",
       "      <th>2021-10-27</th>\n",
       "      <td>-6.054528</td>\n",
       "      <td>-1.081885</td>\n",
       "    </tr>\n",
       "    <tr>\n",
       "      <th>2021-10-26</th>\n",
       "      <td>-0.861741</td>\n",
       "      <td>-3.885392</td>\n",
       "    </tr>\n",
       "    <tr>\n",
       "      <th>2021-10-25</th>\n",
       "      <td>-3.594475</td>\n",
       "      <td>-1.618755</td>\n",
       "    </tr>\n",
       "    <tr>\n",
       "      <th>2021-10-22</th>\n",
       "      <td>-3.996880</td>\n",
       "      <td>0.702848</td>\n",
       "    </tr>\n",
       "  </tbody>\n",
       "</table>\n",
       "</div>"
      ],
      "text/plain": [
       "            Coin Return  Predicted Coin Return\n",
       "Date                                          \n",
       "2021-10-28     4.642487               0.946658\n",
       "2021-10-27    -6.054528              -1.081885\n",
       "2021-10-26    -0.861741              -3.885392\n",
       "2021-10-25    -3.594475              -1.618755\n",
       "2021-10-22    -3.996880               0.702848"
      ]
     },
     "execution_count": 22,
     "metadata": {},
     "output_type": "execute_result"
    }
   ],
   "source": [
    "# Assemble actual y data (Y_test) with predicted y data (from just above) into two columns in a dataframe:\n",
    "coin_results = coin_y_test\n",
    "coin_results['Predicted Coin Return'] = coin_predictions\n",
    "coin_results.head()"
   ]
  },
  {
   "cell_type": "code",
   "execution_count": 23,
   "metadata": {},
   "outputs": [
    {
     "data": {
      "text/plain": [
       "<matplotlib.axes._subplots.AxesSubplot at 0x2bac190b370>"
      ]
     },
     "execution_count": 23,
     "metadata": {},
     "output_type": "execute_result"
    },
    {
     "data": {
      "image/png": "[encoded data removed]",
      "text/plain": [
       "<Figure size 432x288 with 1 Axes>"
      ]
     },
     "metadata": {
      "needs_background": "light"
     },
     "output_type": "display_data"
    }
   ],
   "source": [
    "# Plot the predictions vs the true values\n",
    "coin_results.plot(title=\"Coin Price vs Prediction\")"
   ]
  },
  {
   "cell_type": "code",
   "execution_count": 24,
   "metadata": {},
   "outputs": [
    {
     "data": {
      "text/html": [
       "<div>\n",
       "<style scoped>\n",
       "    .dataframe tbody tr th:only-of-type {\n",
       "        vertical-align: middle;\n",
       "    }\n",
       "\n",
       "    .dataframe tbody tr th {\n",
       "        vertical-align: top;\n",
       "    }\n",
       "\n",
       "    .dataframe thead th {\n",
       "        text-align: right;\n",
       "    }\n",
       "</style>\n",
       "<table border=\"1\" class=\"dataframe\">\n",
       "  <thead>\n",
       "    <tr style=\"text-align: right;\">\n",
       "      <th></th>\n",
       "      <th>Coin Return</th>\n",
       "      <th>Predicted Coin Return</th>\n",
       "    </tr>\n",
       "  </thead>\n",
       "  <tbody>\n",
       "    <tr>\n",
       "      <th>count</th>\n",
       "      <td>74.000000</td>\n",
       "      <td>74.000000</td>\n",
       "    </tr>\n",
       "    <tr>\n",
       "      <th>mean</th>\n",
       "      <td>21.254128</td>\n",
       "      <td>0.073951</td>\n",
       "    </tr>\n",
       "    <tr>\n",
       "      <th>std</th>\n",
       "      <td>175.876011</td>\n",
       "      <td>0.902276</td>\n",
       "    </tr>\n",
       "    <tr>\n",
       "      <th>min</th>\n",
       "      <td>-12.558917</td>\n",
       "      <td>-3.885392</td>\n",
       "    </tr>\n",
       "    <tr>\n",
       "      <th>25%</th>\n",
       "      <td>-4.563707</td>\n",
       "      <td>-0.373811</td>\n",
       "    </tr>\n",
       "    <tr>\n",
       "      <th>50%</th>\n",
       "      <td>-0.881934</td>\n",
       "      <td>0.077858</td>\n",
       "    </tr>\n",
       "    <tr>\n",
       "      <th>75%</th>\n",
       "      <td>3.653727</td>\n",
       "      <td>0.703849</td>\n",
       "    </tr>\n",
       "    <tr>\n",
       "      <th>max</th>\n",
       "      <td>1511.697890</td>\n",
       "      <td>1.531870</td>\n",
       "    </tr>\n",
       "  </tbody>\n",
       "</table>\n",
       "</div>"
      ],
      "text/plain": [
       "       Coin Return  Predicted Coin Return\n",
       "count    74.000000              74.000000\n",
       "mean     21.254128               0.073951\n",
       "std     175.876011               0.902276\n",
       "min     -12.558917              -3.885392\n",
       "25%      -4.563707              -0.373811\n",
       "50%      -0.881934               0.077858\n",
       "75%       3.653727               0.703849\n",
       "max    1511.697890               1.531870"
      ]
     },
     "execution_count": 24,
     "metadata": {},
     "output_type": "execute_result"
    }
   ],
   "source": [
    "coin_results.describe()"
   ]
  },
  {
   "cell_type": "markdown",
   "metadata": {},
   "source": [
    "# Analyze the On-Chain Data"
   ]
  },
  {
   "cell_type": "code",
   "execution_count": 25,
   "metadata": {},
   "outputs": [
    {
     "data": {
      "text/html": [
       "<div>\n",
       "<style scoped>\n",
       "    .dataframe tbody tr th:only-of-type {\n",
       "        vertical-align: middle;\n",
       "    }\n",
       "\n",
       "    .dataframe tbody tr th {\n",
       "        vertical-align: top;\n",
       "    }\n",
       "\n",
       "    .dataframe thead th {\n",
       "        text-align: right;\n",
       "    }\n",
       "</style>\n",
       "<table border=\"1\" class=\"dataframe\">\n",
       "  <thead>\n",
       "    <tr style=\"text-align: right;\">\n",
       "      <th></th>\n",
       "      <th>Txhash</th>\n",
       "      <th>Blockno</th>\n",
       "      <th>UnixTimestamp</th>\n",
       "      <th>DateTime</th>\n",
       "      <th>From</th>\n",
       "      <th>To</th>\n",
       "      <th>Quantity</th>\n",
       "      <th>Method</th>\n",
       "    </tr>\n",
       "  </thead>\n",
       "  <tbody>\n",
       "    <tr>\n",
       "      <th>0</th>\n",
       "      <td>0x7086efbb4cd0578cbdff00c8df92af7387f36fb24fe8...</td>\n",
       "      <td>12916917</td>\n",
       "      <td>1627509736</td>\n",
       "      <td>7/28/2021</td>\n",
       "      <td>0x0000000000000000000000000000000000000000</td>\n",
       "      <td>0xe793e8aefc1e8f104a9be9cf73e4ab1dff892372</td>\n",
       "      <td>4.000000e+07</td>\n",
       "      <td>Exec Transaction</td>\n",
       "    </tr>\n",
       "    <tr>\n",
       "      <th>1</th>\n",
       "      <td>0x2b7618c0e2fc61b3e54031c58cfaf360e99801105570...</td>\n",
       "      <td>12921228</td>\n",
       "      <td>1627568960</td>\n",
       "      <td>7/29/2021</td>\n",
       "      <td>0x0000000000000000000000000000000000000000</td>\n",
       "      <td>0x9a4332ab6eac5833da6bff240c5d63faebc428e1</td>\n",
       "      <td>3.060147e+01</td>\n",
       "      <td>Swap</td>\n",
       "    </tr>\n",
       "    <tr>\n",
       "      <th>2</th>\n",
       "      <td>0x3fe4ab5dc6ac07c5e3b69957b5ac08c3b8dc0d917299...</td>\n",
       "      <td>12921318</td>\n",
       "      <td>1627570182</td>\n",
       "      <td>7/29/2021</td>\n",
       "      <td>0x0000000000000000000000000000000000000000</td>\n",
       "      <td>0x9a4332ab6eac5833da6bff240c5d63faebc428e1</td>\n",
       "      <td>5.000000e+00</td>\n",
       "      <td>Swap</td>\n",
       "    </tr>\n",
       "    <tr>\n",
       "      <th>3</th>\n",
       "      <td>0xe8407a943501ac3b0982738c976b2933d048d0fbe5d1...</td>\n",
       "      <td>12921433</td>\n",
       "      <td>1627571777</td>\n",
       "      <td>7/29/2021</td>\n",
       "      <td>0x9a4332ab6eac5833da6bff240c5d63faebc428e1</td>\n",
       "      <td>0x8692e782ea478623f3342e0fb3936f6530c5d54f</td>\n",
       "      <td>3.560140e+01</td>\n",
       "      <td>Stake</td>\n",
       "    </tr>\n",
       "    <tr>\n",
       "      <th>4</th>\n",
       "      <td>0xef551448e39fe347abb576f8ce44661b7e47c7770a67...</td>\n",
       "      <td>12921453</td>\n",
       "      <td>1627572005</td>\n",
       "      <td>7/29/2021</td>\n",
       "      <td>0x0000000000000000000000000000000000000000</td>\n",
       "      <td>0x9a4332ab6eac5833da6bff240c5d63faebc428e1</td>\n",
       "      <td>6.778987e+00</td>\n",
       "      <td>Swap</td>\n",
       "    </tr>\n",
       "  </tbody>\n",
       "</table>\n",
       "</div>"
      ],
      "text/plain": [
       "                                              Txhash   Blockno  UnixTimestamp  \\\n",
       "0  0x7086efbb4cd0578cbdff00c8df92af7387f36fb24fe8...  12916917     1627509736   \n",
       "1  0x2b7618c0e2fc61b3e54031c58cfaf360e99801105570...  12921228     1627568960   \n",
       "2  0x3fe4ab5dc6ac07c5e3b69957b5ac08c3b8dc0d917299...  12921318     1627570182   \n",
       "3  0xe8407a943501ac3b0982738c976b2933d048d0fbe5d1...  12921433     1627571777   \n",
       "4  0xef551448e39fe347abb576f8ce44661b7e47c7770a67...  12921453     1627572005   \n",
       "\n",
       "    DateTime                                        From  \\\n",
       "0  7/28/2021  0x0000000000000000000000000000000000000000   \n",
       "1  7/29/2021  0x0000000000000000000000000000000000000000   \n",
       "2  7/29/2021  0x0000000000000000000000000000000000000000   \n",
       "3  7/29/2021  0x9a4332ab6eac5833da6bff240c5d63faebc428e1   \n",
       "4  7/29/2021  0x0000000000000000000000000000000000000000   \n",
       "\n",
       "                                           To      Quantity            Method  \n",
       "0  0xe793e8aefc1e8f104a9be9cf73e4ab1dff892372  4.000000e+07  Exec Transaction  \n",
       "1  0x9a4332ab6eac5833da6bff240c5d63faebc428e1  3.060147e+01              Swap  \n",
       "2  0x9a4332ab6eac5833da6bff240c5d63faebc428e1  5.000000e+00              Swap  \n",
       "3  0x8692e782ea478623f3342e0fb3936f6530c5d54f  3.560140e+01             Stake  \n",
       "4  0x9a4332ab6eac5833da6bff240c5d63faebc428e1  6.778987e+00              Swap  "
      ]
     },
     "execution_count": 25,
     "metadata": {},
     "output_type": "execute_result"
    }
   ],
   "source": [
    "# Read in Etherscan Data\n",
    "etherscan_data = pd.read_csv(\n",
    "    Path(\"Etherscan_Data.csv\"))\n",
    "etherscan_data.head()\n"
   ]
  },
  {
   "cell_type": "code",
   "execution_count": 26,
   "metadata": {},
   "outputs": [],
   "source": [
    "# Add a column for number of transactions daily; format date\n",
    "etherscan_data = etherscan_data.rename(columns={'DateTime':'Date'})\n",
    "etherscan_data['Transactions'] = 1\n",
    "etherscan_data['Date'] = pd.to_datetime(etherscan_data['Date'])"
   ]
  },
  {
   "cell_type": "code",
   "execution_count": 27,
   "metadata": {},
   "outputs": [],
   "source": [
    "# Because the quantity is showing in such a large number, we will show in 1000s\n",
    "\n",
    "etherscan_data['Quantity'] = etherscan_data['Quantity']/1000"
   ]
  },
  {
   "cell_type": "code",
   "execution_count": 28,
   "metadata": {},
   "outputs": [
    {
     "data": {
      "text/html": [
       "<div>\n",
       "<style scoped>\n",
       "    .dataframe tbody tr th:only-of-type {\n",
       "        vertical-align: middle;\n",
       "    }\n",
       "\n",
       "    .dataframe tbody tr th {\n",
       "        vertical-align: top;\n",
       "    }\n",
       "\n",
       "    .dataframe thead th {\n",
       "        text-align: right;\n",
       "    }\n",
       "</style>\n",
       "<table border=\"1\" class=\"dataframe\">\n",
       "  <thead>\n",
       "    <tr style=\"text-align: right;\">\n",
       "      <th></th>\n",
       "      <th>Quantity</th>\n",
       "      <th>Transactions</th>\n",
       "    </tr>\n",
       "    <tr>\n",
       "      <th>Date</th>\n",
       "      <th></th>\n",
       "      <th></th>\n",
       "    </tr>\n",
       "  </thead>\n",
       "  <tbody>\n",
       "    <tr>\n",
       "      <th>2021-07-28</th>\n",
       "      <td>40000.000000</td>\n",
       "      <td>1</td>\n",
       "    </tr>\n",
       "    <tr>\n",
       "      <th>2021-07-29</th>\n",
       "      <td>100.252281</td>\n",
       "      <td>20</td>\n",
       "    </tr>\n",
       "    <tr>\n",
       "      <th>2021-07-30</th>\n",
       "      <td>877.648200</td>\n",
       "      <td>24</td>\n",
       "    </tr>\n",
       "    <tr>\n",
       "      <th>2021-07-31</th>\n",
       "      <td>561.334057</td>\n",
       "      <td>59</td>\n",
       "    </tr>\n",
       "    <tr>\n",
       "      <th>2021-08-01</th>\n",
       "      <td>6711.006166</td>\n",
       "      <td>283</td>\n",
       "    </tr>\n",
       "  </tbody>\n",
       "</table>\n",
       "</div>"
      ],
      "text/plain": [
       "                Quantity  Transactions\n",
       "Date                                  \n",
       "2021-07-28  40000.000000             1\n",
       "2021-07-29    100.252281            20\n",
       "2021-07-30    877.648200            24\n",
       "2021-07-31    561.334057            59\n",
       "2021-08-01   6711.006166           283"
      ]
     },
     "execution_count": 28,
     "metadata": {},
     "output_type": "execute_result"
    }
   ],
   "source": [
    "# Rearrange Data Frame by transactions & quantity of tokens traded by date\n",
    "etherscan_data_transactions = etherscan_data.groupby(['Date']).sum()\n",
    "etherscan_data_transactions = etherscan_data_transactions.drop(['Blockno'],axis=1)\n",
    "etherscan_data_transactions = etherscan_data_transactions.drop(['UnixTimestamp'],axis=1)\n",
    "etherscan_data_transactions.head()"
   ]
  },
  {
   "cell_type": "code",
   "execution_count": 29,
   "metadata": {},
   "outputs": [
    {
     "data": {
      "text/plain": [
       "array([<matplotlib.axes._subplots.AxesSubplot object at 0x000002BAC198A850>,\n",
       "       <matplotlib.axes._subplots.AxesSubplot object at 0x000002BAC1C44CA0>],\n",
       "      dtype=object)"
      ]
     },
     "execution_count": 29,
     "metadata": {},
     "output_type": "execute_result"
    },
    {
     "data": {
      "image/png": "[encoded data removed]",
      "text/plain": [
       "<Figure size 432x288 with 2 Axes>"
      ]
     },
     "metadata": {
      "needs_background": "light"
     },
     "output_type": "display_data"
    }
   ],
   "source": [
    "# Plot comparison between quantity of tokens moved vs transactions occured\n",
    "\n",
    "etherscan_data_transactions.plot(subplots=True, title=\"Quantity of Tokens Traded(1000s) vs Number of Transactions\")"
   ]
  },
  {
   "cell_type": "code",
   "execution_count": 30,
   "metadata": {},
   "outputs": [
    {
     "data": {
      "text/html": [
       "<div>\n",
       "<style scoped>\n",
       "    .dataframe tbody tr th:only-of-type {\n",
       "        vertical-align: middle;\n",
       "    }\n",
       "\n",
       "    .dataframe tbody tr th {\n",
       "        vertical-align: top;\n",
       "    }\n",
       "\n",
       "    .dataframe thead th {\n",
       "        text-align: right;\n",
       "    }\n",
       "</style>\n",
       "<table border=\"1\" class=\"dataframe\">\n",
       "  <thead>\n",
       "    <tr style=\"text-align: right;\">\n",
       "      <th></th>\n",
       "      <th>Blockno</th>\n",
       "      <th>UnixTimestamp</th>\n",
       "      <th>Quantity</th>\n",
       "      <th>Transactions</th>\n",
       "    </tr>\n",
       "    <tr>\n",
       "      <th>From</th>\n",
       "      <th></th>\n",
       "      <th></th>\n",
       "      <th></th>\n",
       "      <th></th>\n",
       "    </tr>\n",
       "  </thead>\n",
       "  <tbody>\n",
       "    <tr>\n",
       "      <th>0x0000000000000000000000000000000000000000</th>\n",
       "      <td>70444205751</td>\n",
       "      <td>8800785302818</td>\n",
       "      <td>280539.068853</td>\n",
       "      <td>5402</td>\n",
       "    </tr>\n",
       "    <tr>\n",
       "      <th>0x0000000000007f150bd6f54c40a34d7c3d5e9f56</th>\n",
       "      <td>104614295</td>\n",
       "      <td>13037262823</td>\n",
       "      <td>2.051440</td>\n",
       "      <td>8</td>\n",
       "    </tr>\n",
       "    <tr>\n",
       "      <th>0x000000000035b5e5ad9019092c665357240f594e</th>\n",
       "      <td>117437886</td>\n",
       "      <td>14663543385</td>\n",
       "      <td>14.152875</td>\n",
       "      <td>9</td>\n",
       "    </tr>\n",
       "    <tr>\n",
       "      <th>0x00000000003b3cc22af3ae1eac0440bcee416b40</th>\n",
       "      <td>563690629</td>\n",
       "      <td>70093851237</td>\n",
       "      <td>31.818729</td>\n",
       "      <td>43</td>\n",
       "    </tr>\n",
       "    <tr>\n",
       "      <th>0x000000005736775feb0c8568e7dee77222a26880</th>\n",
       "      <td>91781477</td>\n",
       "      <td>11410863372</td>\n",
       "      <td>4.745805</td>\n",
       "      <td>7</td>\n",
       "    </tr>\n",
       "  </tbody>\n",
       "</table>\n",
       "</div>"
      ],
      "text/plain": [
       "                                                Blockno  UnixTimestamp  \\\n",
       "From                                                                     \n",
       "0x0000000000000000000000000000000000000000  70444205751  8800785302818   \n",
       "0x0000000000007f150bd6f54c40a34d7c3d5e9f56    104614295    13037262823   \n",
       "0x000000000035b5e5ad9019092c665357240f594e    117437886    14663543385   \n",
       "0x00000000003b3cc22af3ae1eac0440bcee416b40    563690629    70093851237   \n",
       "0x000000005736775feb0c8568e7dee77222a26880     91781477    11410863372   \n",
       "\n",
       "                                                 Quantity  Transactions  \n",
       "From                                                                     \n",
       "0x0000000000000000000000000000000000000000  280539.068853          5402  \n",
       "0x0000000000007f150bd6f54c40a34d7c3d5e9f56       2.051440             8  \n",
       "0x000000000035b5e5ad9019092c665357240f594e      14.152875             9  \n",
       "0x00000000003b3cc22af3ae1eac0440bcee416b40      31.818729            43  \n",
       "0x000000005736775feb0c8568e7dee77222a26880       4.745805             7  "
      ]
     },
     "execution_count": 30,
     "metadata": {},
     "output_type": "execute_result"
    }
   ],
   "source": [
    "# Orgainze data by quantity & transactions by Sender\n",
    "\n",
    "etherscan_data_senders = etherscan_data.groupby(['From']).sum()\n",
    "etherscan_data_senders.head()"
   ]
  },
  {
   "cell_type": "code",
   "execution_count": 31,
   "metadata": {},
   "outputs": [
    {
     "data": {
      "text/html": [
       "<div>\n",
       "<style scoped>\n",
       "    .dataframe tbody tr th:only-of-type {\n",
       "        vertical-align: middle;\n",
       "    }\n",
       "\n",
       "    .dataframe tbody tr th {\n",
       "        vertical-align: top;\n",
       "    }\n",
       "\n",
       "    .dataframe thead th {\n",
       "        text-align: right;\n",
       "    }\n",
       "</style>\n",
       "<table border=\"1\" class=\"dataframe\">\n",
       "  <thead>\n",
       "    <tr style=\"text-align: right;\">\n",
       "      <th></th>\n",
       "      <th>Quantity</th>\n",
       "    </tr>\n",
       "    <tr>\n",
       "      <th>From</th>\n",
       "      <th></th>\n",
       "    </tr>\n",
       "  </thead>\n",
       "  <tbody>\n",
       "    <tr>\n",
       "      <th>0x3f31dbdc099761156244a5bd5e06cdadbd2f30c0</th>\n",
       "      <td>286058.699640</td>\n",
       "    </tr>\n",
       "    <tr>\n",
       "      <th>0x0000000000000000000000000000000000000000</th>\n",
       "      <td>280539.068853</td>\n",
       "    </tr>\n",
       "    <tr>\n",
       "      <th>0xb32b48a1b1d5a353d49560a3767314fd513a1596</th>\n",
       "      <td>177570.582000</td>\n",
       "    </tr>\n",
       "    <tr>\n",
       "      <th>0x28c6c06298d514db089934071355e5743bf21d60</th>\n",
       "      <td>157723.065751</td>\n",
       "    </tr>\n",
       "    <tr>\n",
       "      <th>0xe793e8aefc1e8f104a9be9cf73e4ab1dff892372</th>\n",
       "      <td>38000.000000</td>\n",
       "    </tr>\n",
       "  </tbody>\n",
       "</table>\n",
       "</div>"
      ],
      "text/plain": [
       "                                                 Quantity\n",
       "From                                                     \n",
       "0x3f31dbdc099761156244a5bd5e06cdadbd2f30c0  286058.699640\n",
       "0x0000000000000000000000000000000000000000  280539.068853\n",
       "0xb32b48a1b1d5a353d49560a3767314fd513a1596  177570.582000\n",
       "0x28c6c06298d514db089934071355e5743bf21d60  157723.065751\n",
       "0xe793e8aefc1e8f104a9be9cf73e4ab1dff892372   38000.000000"
      ]
     },
     "execution_count": 31,
     "metadata": {},
     "output_type": "execute_result"
    }
   ],
   "source": [
    "# Drop unused data\n",
    "\n",
    "etherscan_data_senders = etherscan_data_senders.sort_values(by = 'Quantity',ascending=False)\n",
    "etherscan_data_senders = etherscan_data_senders.drop('Transactions',axis=1)\n",
    "etherscan_data_senders = etherscan_data_senders.drop('Blockno',axis=1)\n",
    "etherscan_data_senders = etherscan_data_senders.drop('UnixTimestamp',axis=1)\n",
    "etherscan_data_senders.head()"
   ]
  },
  {
   "cell_type": "code",
   "execution_count": 32,
   "metadata": {},
   "outputs": [],
   "source": [
    "# Find out what percent of tokens sent came from each address\n",
    "quantity_sum = etherscan_data_senders['Quantity'].sum()\n",
    "transactions_sum = etherscan_data_senders['Quantity'].sum()\n",
    "etherscan_data_senders['Quantity %'] = (etherscan_data_senders['Quantity']/quantity_sum)*100"
   ]
  },
  {
   "cell_type": "code",
   "execution_count": 33,
   "metadata": {},
   "outputs": [
    {
     "data": {
      "text/plain": [
       "Quantity      939891.416244\n",
       "Quantity %        89.013177\n",
       "dtype: float64"
      ]
     },
     "execution_count": 33,
     "metadata": {},
     "output_type": "execute_result"
    }
   ],
   "source": [
    "# See the sum of the top 5\n",
    "\n",
    "etherscan_data_senders.head(5).sum()"
   ]
  },
  {
   "cell_type": "code",
   "execution_count": 34,
   "metadata": {},
   "outputs": [
    {
     "data": {
      "text/plain": [
       "Quantity      116010.020237\n",
       "Quantity %        10.986823\n",
       "dtype: float64"
      ]
     },
     "execution_count": 34,
     "metadata": {},
     "output_type": "execute_result"
    }
   ],
   "source": [
    "# See the sum of the rest of the population\n",
    "etherscan_data_senders_rest = etherscan_data_senders[5:]\n",
    "etherscan_data_senders_rest.sum()\n"
   ]
  },
  {
   "cell_type": "code",
   "execution_count": 35,
   "metadata": {},
   "outputs": [],
   "source": [
    "# Create a dataframe for the rest of the population and for the top 5 senders\n",
    "\n",
    "rest_data = {'From':['All_Others'],'Quantity':[etherscan_data_senders_rest['Quantity'].sum()],'Quantity %':[etherscan_data_senders_rest['Quantity %'].sum()]}\n",
    "rest_df = pd.DataFrame(rest_data)\n",
    "etherscan_data_senders = etherscan_data_senders[:5]\n"
   ]
  },
  {
   "cell_type": "code",
   "execution_count": 36,
   "metadata": {},
   "outputs": [
    {
     "data": {
      "text/html": [
       "<div>\n",
       "<style scoped>\n",
       "    .dataframe tbody tr th:only-of-type {\n",
       "        vertical-align: middle;\n",
       "    }\n",
       "\n",
       "    .dataframe tbody tr th {\n",
       "        vertical-align: top;\n",
       "    }\n",
       "\n",
       "    .dataframe thead th {\n",
       "        text-align: right;\n",
       "    }\n",
       "</style>\n",
       "<table border=\"1\" class=\"dataframe\">\n",
       "  <thead>\n",
       "    <tr style=\"text-align: right;\">\n",
       "      <th></th>\n",
       "      <th>Quantity</th>\n",
       "      <th>Quantity %</th>\n",
       "    </tr>\n",
       "    <tr>\n",
       "      <th>From</th>\n",
       "      <th></th>\n",
       "      <th></th>\n",
       "    </tr>\n",
       "  </thead>\n",
       "  <tbody>\n",
       "    <tr>\n",
       "      <th>All_Others</th>\n",
       "      <td>116010.020237</td>\n",
       "      <td>10.986823</td>\n",
       "    </tr>\n",
       "  </tbody>\n",
       "</table>\n",
       "</div>"
      ],
      "text/plain": [
       "                 Quantity  Quantity %\n",
       "From                                 \n",
       "All_Others  116010.020237   10.986823"
      ]
     },
     "execution_count": 36,
     "metadata": {},
     "output_type": "execute_result"
    }
   ],
   "source": [
    "# Adjust index of the rest_df to append to the top 5 senders\n",
    "rest_df = rest_df.set_index('From')\n",
    "rest_df.head()"
   ]
  },
  {
   "cell_type": "code",
   "execution_count": 37,
   "metadata": {},
   "outputs": [],
   "source": [
    "# Append Dfs\n",
    "etherscan_data_senders = etherscan_data_senders.append(rest_df,ignore_index=False)"
   ]
  },
  {
   "cell_type": "code",
   "execution_count": 38,
   "metadata": {},
   "outputs": [],
   "source": [
    "# Reset the index for renaming purposes\n",
    "etherscan_data_senders = etherscan_data_senders.reset_index()"
   ]
  },
  {
   "cell_type": "code",
   "execution_count": 39,
   "metadata": {},
   "outputs": [],
   "source": [
    "# Rename the index by the last 5 characters of the wallet addresses\n",
    "\n",
    "etherscan_data_senders = etherscan_data_senders.rename(index={0:'f30c0',1:'00000',2:'a1596',3:'21d60',4:'92372',5:'All_Others'}).drop('From',axis=1)"
   ]
  },
  {
   "cell_type": "code",
   "execution_count": 40,
   "metadata": {},
   "outputs": [
    {
     "data": {
      "text/plain": [
       "<matplotlib.axes._subplots.AxesSubplot at 0x2bac1cf8a00>"
      ]
     },
     "execution_count": 40,
     "metadata": {},
     "output_type": "execute_result"
    },
    {
     "data": {
      "image/png": "[encoded data removed]",
      "text/plain": [
       "<Figure size 1800x864 with 1 Axes>"
      ]
     },
     "metadata": {},
     "output_type": "display_data"
    }
   ],
   "source": [
    "# Plot data in pie chart\n",
    "\n",
    "etherscan_data_senders.plot.pie(y='Quantity', figsize=(25,12),title='Top Senders by Address',fontsize=16,autopct='%1.1f%%',legend = False)"
   ]
  },
  {
   "cell_type": "markdown",
   "metadata": {},
   "source": [
    "# Out-of-Sample Performance - Stock Price\n",
    "\n",
    "Evaluate the model using \"out-of-sample\" data (X_test and y_test)"
   ]
  },
  {
   "cell_type": "code",
   "execution_count": 41,
   "metadata": {},
   "outputs": [
    {
     "name": "stdout",
     "output_type": "stream",
     "text": [
      "Out of Sample Root Mean Squared Error(RMSE: 28.8747457293497\n"
     ]
    }
   ],
   "source": [
    "from sklearn.metrics import mean_squared_error\n",
    "# Calculate the mean_squared_error (MSE) on actual versus predicted test \"y\" \n",
    "stock_mse = mean_squared_error(\n",
    "    stock_results['Stock Return'],\n",
    "    stock_results['Predicted Stock Return']\n",
    ")\n",
    "\n",
    "# Using that mean-squared-error, calculate the root-mean-squared error (RMSE):\n",
    "stock_rmse = np.sqrt(stock_mse)\n",
    "print(f\"Out of Sample Root Mean Squared Error(RMSE: {stock_rmse}\")"
   ]
  },
  {
   "cell_type": "markdown",
   "metadata": {},
   "source": [
    "# In-Sample Performance - Stock Price\n",
    "\n",
    "Evaluate the model using in-sample data (X_train and y_train)"
   ]
  },
  {
   "cell_type": "code",
   "execution_count": 42,
   "metadata": {},
   "outputs": [
    {
     "name": "stdout",
     "output_type": "stream",
     "text": [
      "In-sample Root Mean Squared Error (RMSE): 6.753268408471047\n"
     ]
    }
   ],
   "source": [
    "# Construct a dataframe using just the \"y\" training data:\n",
    "stock_in_sample_results = stock_y_train\n",
    "\n",
    "# Add a column of \"in-sample\" predictions to that dataframe:  \n",
    "stock_in_sample_results['In-Sample Predictions'] = stock_model.predict(stock_x_train)\n",
    "\n",
    "# Calculate in-sample mean_squared_error (for comparison to out-of-sample)\n",
    "stock_mse = mean_squared_error(\n",
    "    stock_in_sample_results['Stock Return'],\n",
    "    stock_in_sample_results['In-Sample Predictions']\n",
    ")\n",
    "\n",
    "# Calculate in-sample root mean_squared_error (for comparison to out-of-sample)\n",
    "stock_rmse = np.sqrt(stock_mse)\n",
    "print(f'In-sample Root Mean Squared Error (RMSE): {stock_rmse}')"
   ]
  },
  {
   "cell_type": "markdown",
   "metadata": {},
   "source": [
    "# Out-of-Sample Performance - Coin Price\n",
    "\n",
    "Evaluate the model using in-sample data (X_train and y_train)"
   ]
  },
  {
   "cell_type": "code",
   "execution_count": 43,
   "metadata": {},
   "outputs": [
    {
     "name": "stdout",
     "output_type": "stream",
     "text": [
      "Out of Sample Root Mean Squared Error(RMSE: 175.9727454501411\n"
     ]
    }
   ],
   "source": [
    "# Calculate the mean_squared_error (MSE) on actual versus predicted test \"y\" \n",
    "coin_mse = mean_squared_error(\n",
    "    coin_results['Coin Return'],\n",
    "    coin_results['Predicted Coin Return']\n",
    ")\n",
    "\n",
    "# Using that mean-squared-error, calculate the root-mean-squared error (RMSE):\n",
    "coin_rmse = np.sqrt(coin_mse)\n",
    "print(f\"Out of Sample Root Mean Squared Error(RMSE: {coin_rmse}\")"
   ]
  },
  {
   "cell_type": "markdown",
   "metadata": {},
   "source": [
    "# In-Sample Performance - Coin Price\n",
    "\n",
    "Evaluate the model using in-sample data (X_train and y_train)"
   ]
  },
  {
   "cell_type": "code",
   "execution_count": 44,
   "metadata": {},
   "outputs": [
    {
     "name": "stdout",
     "output_type": "stream",
     "text": [
      "In-sample Root Mean Squared Error (RMSE): 8.253122181527436\n"
     ]
    }
   ],
   "source": [
    "# Construct a dataframe using just the \"y\" training data:\n",
    "coin_in_sample_results = coin_y_train\n",
    "\n",
    "# Add a column of \"in-sample\" predictions to that dataframe:  \n",
    "coin_in_sample_results['In-Sample Predictions'] = coin_model.predict(coin_x_train)\n",
    "\n",
    "# Calculate in-sample mean_squared_error (for comparison to out-of-sample)\n",
    "coin_mse = mean_squared_error(\n",
    "    coin_in_sample_results['Coin Return'],\n",
    "    coin_in_sample_results['In-Sample Predictions']\n",
    ")\n",
    "\n",
    "# Calculate in-sample root mean_squared_error (for comparison to out-of-sample)\n",
    "coin_rmse = np.sqrt(coin_mse)\n",
    "print(f'In-sample Root Mean Squared Error (RMSE): {coin_rmse}')"
   ]
  },
  {
   "cell_type": "markdown",
   "metadata": {},
   "source": [
    "The model produced a root mean squared error of approximately 0.42 and .60 on the out of sample data and the in sample data respectively. This tells us that the model is performing approximately 30% more accurately on data that it has not seen before."
   ]
  },
  {
   "cell_type": "markdown",
   "metadata": {},
   "source": []
  }
 ],
 "metadata": {
  "file_extension": ".py",
  "interpreter": {
   "hash": "52575ae80af061cc64d8b7f38a5cb1b871b63f9c1317091abcb24f04cea2ba60"
  },
  "kernelspec": {
   "display_name": "Python 3.8.8 64-bit ('base': conda)",
   "name": "python3"
  },
  "language_info": {
   "codemirror_mode": {
    "name": "ipython",
    "version": 3
   },
   "file_extension": ".py",
   "mimetype": "text/x-python",
   "name": "python",
   "nbconvert_exporter": "python",
   "pygments_lexer": "ipython3",
   "version": "3.8.8"
  },
  "mimetype": "text/x-python",
  "name": "python",
  "npconvert_exporter": "python",
  "pygments_lexer": "ipython3",
  "version": 3
 },
 "nbformat": 4,
 "nbformat_minor": 4
}
