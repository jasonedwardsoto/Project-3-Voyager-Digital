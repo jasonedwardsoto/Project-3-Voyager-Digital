{
 "cells": [
  {
   "cell_type": "markdown",
   "metadata": {},
   "source": [
    "# 1. Install and Import Baseline Dependencies"
   ]
  },
  {
   "cell_type": "code",
   "execution_count": 1,
   "metadata": {},
   "outputs": [
    {
     "name": "stdout",
     "output_type": "stream",
     "text": [
      "Requirement already satisfied: transformers in c:\\users\\moto\\anaconda3\\lib\\site-packages (4.5.1)\n",
      "Requirement already satisfied: tqdm>=4.27 in c:\\users\\moto\\anaconda3\\lib\\site-packages (from transformers) (4.62.2)\n",
      "Requirement already satisfied: numpy>=1.17 in c:\\users\\moto\\anaconda3\\lib\\site-packages (from transformers) (1.18.5)\n",
      "Requirement already satisfied: packaging in c:\\users\\moto\\anaconda3\\lib\\site-packages (from transformers) (21.0)\n",
      "Requirement already satisfied: requests in c:\\users\\moto\\anaconda3\\lib\\site-packages (from transformers) (2.26.0)\n",
      "Requirement already satisfied: filelock in c:\\users\\moto\\anaconda3\\lib\\site-packages (from transformers) (3.0.12)\n",
      "Requirement already satisfied: sacremoses in c:\\users\\moto\\anaconda3\\lib\\site-packages (from transformers) (0.0.45)\n",
      "Requirement already satisfied: tokenizers<0.11,>=0.10.1 in c:\\users\\moto\\anaconda3\\lib\\site-packages (from transformers) (0.10.2)\n",
      "Requirement already satisfied: regex!=2019.12.17 in c:\\users\\moto\\anaconda3\\lib\\site-packages (from transformers) (2021.8.3)\n",
      "Requirement already satisfied: colorama in c:\\users\\moto\\anaconda3\\lib\\site-packages (from tqdm>=4.27->transformers) (0.4.4)\n",
      "Requirement already satisfied: pyparsing>=2.0.2 in c:\\users\\moto\\anaconda3\\lib\\site-packages (from packaging->transformers) (2.4.7)\n",
      "Requirement already satisfied: urllib3<1.27,>=1.21.1 in c:\\users\\moto\\anaconda3\\lib\\site-packages (from requests->transformers) (1.25.11)\n",
      "Requirement already satisfied: charset-normalizer~=2.0.0 in c:\\users\\moto\\anaconda3\\lib\\site-packages (from requests->transformers) (2.0.4)\n",
      "Requirement already satisfied: idna<4,>=2.5 in c:\\users\\moto\\anaconda3\\lib\\site-packages (from requests->transformers) (3.2)\n",
      "Requirement already satisfied: certifi>=2017.4.17 in c:\\users\\moto\\anaconda3\\lib\\site-packages (from requests->transformers) (2020.6.20)\n",
      "Requirement already satisfied: click in c:\\users\\moto\\anaconda3\\lib\\site-packages (from sacremoses->transformers) (7.1.2)\n",
      "Requirement already satisfied: six in c:\\users\\moto\\anaconda3\\lib\\site-packages (from sacremoses->transformers) (1.15.0)\n",
      "Requirement already satisfied: joblib in c:\\users\\moto\\anaconda3\\lib\\site-packages (from sacremoses->transformers) (1.0.1)\n"
     ]
    },
    {
     "name": "stderr",
     "output_type": "stream",
     "text": [
      "WARNING: Ignoring invalid distribution -umpy (c:\\users\\moto\\anaconda3\\lib\\site-packages)\n",
      "WARNING: Ignoring invalid distribution -umpy (c:\\users\\moto\\anaconda3\\lib\\site-packages)\n",
      "WARNING: Ignoring invalid distribution -umpy (c:\\users\\moto\\anaconda3\\lib\\site-packages)\n",
      "WARNING: Ignoring invalid distribution -umpy (c:\\users\\moto\\anaconda3\\lib\\site-packages)\n",
      "WARNING: Ignoring invalid distribution -umpy (c:\\users\\moto\\anaconda3\\lib\\site-packages)\n",
      "WARNING: Ignoring invalid distribution -umpy (c:\\users\\moto\\anaconda3\\lib\\site-packages)\n"
     ]
    }
   ],
   "source": [
    "!pip install transformers"
   ]
  },
  {
   "cell_type": "code",
   "execution_count": 2,
   "metadata": {},
   "outputs": [],
   "source": [
    "from transformers import PegasusTokenizer, PegasusForConditionalGeneration\n",
    "from bs4 import BeautifulSoup\n",
    "import requests"
   ]
  },
  {
   "cell_type": "markdown",
   "metadata": {},
   "source": [
    "# 2. Setup Summarization Model"
   ]
  },
  {
   "cell_type": "code",
   "execution_count": 3,
   "metadata": {},
   "outputs": [],
   "source": [
    "model_name = \"human-centered-summarization/financial-summarization-pegasus\"\n",
    "tokenizer = PegasusTokenizer.from_pretrained(model_name)\n",
    "model = PegasusForConditionalGeneration.from_pretrained(model_name)"
   ]
  },
  {
   "cell_type": "code",
   "execution_count": 4,
   "metadata": {},
   "outputs": [],
   "source": [
    "url = \"https://finance.yahoo.com/news/voyager-digital-announces-participation-upcoming-120000731.html\"\n",
    "r = requests.get(url)\n",
    "soup = BeautifulSoup(r.text, 'html.parser')\n",
    "paragraphs = soup.find_all('p')"
   ]
  },
  {
   "cell_type": "code",
   "execution_count": 5,
   "metadata": {},
   "outputs": [
    {
     "data": {
      "text/plain": [
       "'Thank you for your patience.'"
      ]
     },
     "execution_count": 5,
     "metadata": {},
     "output_type": "execute_result"
    }
   ],
   "source": [
    "paragraphs[0].text"
   ]
  },
  {
   "cell_type": "code",
   "execution_count": 6,
   "metadata": {},
   "outputs": [],
   "source": [
    "text = [paragraph.text for paragraph in paragraphs]\n",
    "words = ' '.join(text).split(' ')[:400]\n",
    "ARTICLE = ' '.join(words)"
   ]
  },
  {
   "cell_type": "code",
   "execution_count": 7,
   "metadata": {},
   "outputs": [
    {
     "data": {
      "text/plain": [
       "'Thank you for your patience. Our engineers are working quickly to resolve the issue.'"
      ]
     },
     "execution_count": 7,
     "metadata": {},
     "output_type": "execute_result"
    }
   ],
   "source": [
    "ARTICLE"
   ]
  },
  {
   "cell_type": "code",
   "execution_count": 8,
   "metadata": {},
   "outputs": [],
   "source": [
    "input_ids = tokenizer.encode(ARTICLE, return_tensors='pt')\n",
    "output = model.generate(input_ids, max_length=55, num_beams=5, early_stopping=True)\n",
    "summary = tokenizer.decode(output[0], skip_special_tokens=True)"
   ]
  },
  {
   "cell_type": "code",
   "execution_count": 9,
   "metadata": {},
   "outputs": [
    {
     "data": {
      "text/plain": [
       "'We are aware of the issue and are working to resolve it.'"
      ]
     },
     "execution_count": 9,
     "metadata": {},
     "output_type": "execute_result"
    }
   ],
   "source": [
    "summary"
   ]
  },
  {
   "cell_type": "markdown",
   "metadata": {},
   "source": [
    "# 3. Building a News and Sentiment Pipeline"
   ]
  },
  {
   "cell_type": "code",
   "execution_count": 10,
   "metadata": {},
   "outputs": [],
   "source": [
    "monitored_tickers = ['VYGVF']"
   ]
  },
  {
   "cell_type": "markdown",
   "metadata": {},
   "source": [
    "## 3.1. Search for Stock News using Google and Yahoo Finance"
   ]
  },
  {
   "cell_type": "code",
   "execution_count": 11,
   "metadata": {},
   "outputs": [],
   "source": [
    "def search_for_stock_news_urls(ticker):\n",
    "    search_url = \"https://www.google.com/search?q=yahoo+finance+{}&tbm=nws\".format(ticker)\n",
    "    r = requests.get(search_url)\n",
    "    soup = BeautifulSoup(r.text, 'html.parser')\n",
    "    atags = soup.find_all('a')\n",
    "    hrefs = [link['href'] for link in atags]\n",
    "    return hrefs "
   ]
  },
  {
   "cell_type": "code",
   "execution_count": 12,
   "metadata": {},
   "outputs": [
    {
     "data": {
      "text/plain": [
       "{'VYGVF': ['/?sa=X&ved=0ahUKEwia-4vB54P0AhVDQjABHUQOBdsQOwgC',\n",
       "  '/?output=search&ie=UTF-8&tbm=nws&sa=X&ved=0ahUKEwia-4vB54P0AhVDQjABHUQOBdsQPAgE',\n",
       "  '/search?q=yahoo+finance+VYGVF&tbm=nws&ie=UTF-8&gbv=1&sei=hn6GYZqgK8OEwbkPxJyU2A0',\n",
       "  '/search?q=yahoo+finance+VYGVF&ie=UTF-8&source=lnms&sa=X&ved=0ahUKEwia-4vB54P0AhVDQjABHUQOBdsQ_AUIBygA',\n",
       "  '/search?q=yahoo+finance+VYGVF&ie=UTF-8&tbm=shop&source=lnms&sa=X&ved=0ahUKEwia-4vB54P0AhVDQjABHUQOBdsQ_AUICSgC',\n",
       "  '/search?q=yahoo+finance+VYGVF&ie=UTF-8&tbm=vid&source=lnms&sa=X&ved=0ahUKEwia-4vB54P0AhVDQjABHUQOBdsQ_AUICigD',\n",
       "  '/search?q=yahoo+finance+VYGVF&ie=UTF-8&tbm=isch&source=lnms&sa=X&ved=0ahUKEwia-4vB54P0AhVDQjABHUQOBdsQ_AUICygE',\n",
       "  'https://maps.google.com/maps?q=yahoo+finance+VYGVF&um=1&ie=UTF-8&sa=X&ved=0ahUKEwia-4vB54P0AhVDQjABHUQOBdsQ_AUIDCgF',\n",
       "  '/search?q=yahoo+finance+VYGVF&ie=UTF-8&tbm=bks&source=lnms&sa=X&ved=0ahUKEwia-4vB54P0AhVDQjABHUQOBdsQ_AUIDSgG',\n",
       "  '/advanced_search',\n",
       "  '/search?q=yahoo+finance+VYGVF&ie=UTF-8&tbm=nws&source=lnt&tbs=qdr:h&sa=X&ved=0ahUKEwia-4vB54P0AhVDQjABHUQOBdsQpwUIDw',\n",
       "  '/search?q=yahoo+finance+VYGVF&ie=UTF-8&tbm=nws&source=lnt&tbs=qdr:d&sa=X&ved=0ahUKEwia-4vB54P0AhVDQjABHUQOBdsQpwUIEA',\n",
       "  '/search?q=yahoo+finance+VYGVF&ie=UTF-8&tbm=nws&source=lnt&tbs=qdr:w&sa=X&ved=0ahUKEwia-4vB54P0AhVDQjABHUQOBdsQpwUIEQ',\n",
       "  '/search?q=yahoo+finance+VYGVF&ie=UTF-8&tbm=nws&source=lnt&tbs=qdr:m&sa=X&ved=0ahUKEwia-4vB54P0AhVDQjABHUQOBdsQpwUIEg',\n",
       "  '/search?q=yahoo+finance+VYGVF&ie=UTF-8&tbm=nws&source=lnt&tbs=qdr:y&sa=X&ved=0ahUKEwia-4vB54P0AhVDQjABHUQOBdsQpwUIEw',\n",
       "  '/search?q=yahoo+finance+VYGVF&ie=UTF-8&tbm=nws&source=lnt&tbs=ar:1&sa=X&ved=0ahUKEwia-4vB54P0AhVDQjABHUQOBdsQpwUIFA',\n",
       "  '/search?q=yahoo+finance+VYGVF&ie=UTF-8&tbm=nws&source=lnt&tbs=sbd:1&sa=X&ved=0ahUKEwia-4vB54P0AhVDQjABHUQOBdsQpwUIFg',\n",
       "  '/url?q=https://finance.yahoo.com/news/voyager-digital-secures-75-million-114500730.html&sa=U&ved=2ahUKEwia-4vB54P0AhVDQjABHUQOBdsQxfQBegQIAhAB&usg=AOvVaw1ri4NTRjO1mfoNrLRakLKM',\n",
       "  '/url?q=https://finance.yahoo.com/news/voyager-digital-secures-75-million-114500730.html&sa=U&ved=2ahUKEwia-4vB54P0AhVDQjABHUQOBdsQ0Y8FegQIAhAC&usg=AOvVaw2QoPZB5Q3IPiHBO629Z4V_',\n",
       "  '/url?q=https://finance.yahoo.com/news/voyager-digital-becomes-official-cryptocurrency-154300849.html&sa=U&ved=2ahUKEwia-4vB54P0AhVDQjABHUQOBdsQxfQBegQIBxAB&usg=AOvVaw1RRfpMlPrt6iAFVcscHRx8',\n",
       "  '/url?q=https://finance.yahoo.com/news/voyager-digital-becomes-official-cryptocurrency-154300849.html&sa=U&ved=2ahUKEwia-4vB54P0AhVDQjABHUQOBdsQ0Y8FegQIBxAC&usg=AOvVaw1NyJMx1HZSSbXVaMRik5iH',\n",
       "  '/url?q=https://finance.yahoo.com/news/voyager-digital-reports-revenue-us-121700287.html&sa=U&ved=2ahUKEwia-4vB54P0AhVDQjABHUQOBdsQxfQBegQICBAB&usg=AOvVaw2NK0ytO2pDGsc0NnaS10an',\n",
       "  '/url?q=https://finance.yahoo.com/news/voyager-digital-reports-revenue-us-121700287.html&sa=U&ved=2ahUKEwia-4vB54P0AhVDQjABHUQOBdsQ0Y8FegQICBAC&usg=AOvVaw2hhiQMsonrOQGy3Ykz14Uk',\n",
       "  '/url?q=https://finance.yahoo.com/news/voyager-digital-business-quarter-ended-120000046.html&sa=U&ved=2ahUKEwia-4vB54P0AhVDQjABHUQOBdsQxfQBegQICRAB&usg=AOvVaw3AuynL7OAdJkJbzekwFMlO',\n",
       "  '/url?q=https://finance.yahoo.com/news/voyager-digital-business-quarter-ended-120000046.html&sa=U&ved=2ahUKEwia-4vB54P0AhVDQjABHUQOBdsQ0Y8FegQICRAC&usg=AOvVaw3TlBfJSLC4zKDvDn3JT1zd',\n",
       "  '/url?q=https://finance.yahoo.com/news/voyager-digital-market-rebellion-announce-120000107.html&sa=U&ved=2ahUKEwia-4vB54P0AhVDQjABHUQOBdsQxfQBegQIARAB&usg=AOvVaw31-8gwMfo-cqHmoB7yEtby',\n",
       "  '/url?q=https://finance.yahoo.com/news/voyager-digital-market-rebellion-announce-120000107.html&sa=U&ved=2ahUKEwia-4vB54P0AhVDQjABHUQOBdsQ0Y8FegQIARAC&usg=AOvVaw1GBa0Zo0gY1LCm6KeRKwPP',\n",
       "  '/url?q=https://finance.yahoo.com/news/voyager-digital-announces-record-quarterly-200500164.html&sa=U&ved=2ahUKEwia-4vB54P0AhVDQjABHUQOBdsQxfQBegQIABAB&usg=AOvVaw15DARCKqbwBASU-ZSLoXtx',\n",
       "  '/url?q=https://finance.yahoo.com/news/voyager-digital-announces-record-quarterly-200500164.html&sa=U&ved=2ahUKEwia-4vB54P0AhVDQjABHUQOBdsQ0Y8FegQIABAC&usg=AOvVaw2yjAPFqMPTZep3Z7coN33M',\n",
       "  '/url?q=https://finance.yahoo.com/news/voyager-digital-announces-conditional-approval-120000242.html&sa=U&ved=2ahUKEwia-4vB54P0AhVDQjABHUQOBdsQxfQBegQIBhAB&usg=AOvVaw2BFX52FllLH3wFllHua3Qn',\n",
       "  '/url?q=https://finance.yahoo.com/news/voyager-digital-announces-conditional-approval-120000242.html&sa=U&ved=2ahUKEwia-4vB54P0AhVDQjABHUQOBdsQ0Y8FegQIBhAC&usg=AOvVaw2dtAjdwtJuAe6Qm7ma1TKC',\n",
       "  '/url?q=https://finance.yahoo.com/news/voyager-digital-acquires-leading-global-130000594.html&sa=U&ved=2ahUKEwia-4vB54P0AhVDQjABHUQOBdsQxfQBegQIBRAB&usg=AOvVaw0UiORvfruPt-IOATwiUJ4m',\n",
       "  '/url?q=https://finance.yahoo.com/news/voyager-digital-acquires-leading-global-130000594.html&sa=U&ved=2ahUKEwia-4vB54P0AhVDQjABHUQOBdsQ0Y8FegQIBRAC&usg=AOvVaw3wyka_BEJmF_FFOna4J8mT',\n",
       "  '/url?q=https://finance.yahoo.com/news/voyager-digital-announces-participation-september-120000518.html&sa=U&ved=2ahUKEwia-4vB54P0AhVDQjABHUQOBdsQxfQBegQIBBAB&usg=AOvVaw1gl6NfD9fxDJseXdUtrNXJ',\n",
       "  '/url?q=https://finance.yahoo.com/news/voyager-digital-announces-participation-september-120000518.html&sa=U&ved=2ahUKEwia-4vB54P0AhVDQjABHUQOBdsQ0Y8FegQIBBAC&usg=AOvVaw1o8tHk7pDXGV0FwWHOfBPY',\n",
       "  '/url?q=https://finance.yahoo.com/news/voyager-digital-provides-business-april-120000956.html&sa=U&ved=2ahUKEwia-4vB54P0AhVDQjABHUQOBdsQxfQBegQIAxAB&usg=AOvVaw0uxfSaCdpuMwW3K64-_dVK',\n",
       "  '/url?q=https://finance.yahoo.com/news/voyager-digital-provides-business-april-120000956.html&sa=U&ved=2ahUKEwia-4vB54P0AhVDQjABHUQOBdsQ0Y8FegQIAxAC&usg=AOvVaw1QqqbXxdRgigHSA2jdKU0s',\n",
       "  '/search?q=yahoo+finance+VYGVF&ie=UTF-8&tbm=nws&ei=hn6GYZqgK8OEwbkPxJyU2A0&start=10&sa=N',\n",
       "  '/url?q=https://support.google.com/websearch%3Fp%3Dws_settings_location%26hl%3Den&sa=U&ved=0ahUKEwia-4vB54P0AhVDQjABHUQOBdsQty4IVQ&usg=AOvVaw1-V67a5qCPdpri1U14FoUH',\n",
       "  '/url?q=https://accounts.google.com/ServiceLogin%3Fcontinue%3Dhttps://www.google.com/search%253Fq%253Dyahoo%252Bfinance%252BVYGVF%2526tbm%253Dnws%26hl%3Den&sa=U&ved=0ahUKEwia-4vB54P0AhVDQjABHUQOBdsQxs8CCFY&usg=AOvVaw0Ld9xqfbe0lMiQ7VJCgwIO',\n",
       "  'https://www.google.com/preferences?hl=en&fg=1&sa=X&ved=0ahUKEwia-4vB54P0AhVDQjABHUQOBdsQ5fUCCFc',\n",
       "  'https://policies.google.com/privacy?hl=en&fg=1',\n",
       "  'https://policies.google.com/terms?hl=en&fg=1']}"
      ]
     },
     "execution_count": 12,
     "metadata": {},
     "output_type": "execute_result"
    }
   ],
   "source": [
    "raw_urls = {ticker:search_for_stock_news_urls(ticker) for ticker in monitored_tickers}\n",
    "raw_urls"
   ]
  },
  {
   "cell_type": "code",
   "execution_count": 13,
   "metadata": {},
   "outputs": [
    {
     "data": {
      "text/plain": [
       "['/?sa=X&ved=0ahUKEwia-4vB54P0AhVDQjABHUQOBdsQOwgC',\n",
       " '/?output=search&ie=UTF-8&tbm=nws&sa=X&ved=0ahUKEwia-4vB54P0AhVDQjABHUQOBdsQPAgE',\n",
       " '/search?q=yahoo+finance+VYGVF&tbm=nws&ie=UTF-8&gbv=1&sei=hn6GYZqgK8OEwbkPxJyU2A0',\n",
       " '/search?q=yahoo+finance+VYGVF&ie=UTF-8&source=lnms&sa=X&ved=0ahUKEwia-4vB54P0AhVDQjABHUQOBdsQ_AUIBygA',\n",
       " '/search?q=yahoo+finance+VYGVF&ie=UTF-8&tbm=shop&source=lnms&sa=X&ved=0ahUKEwia-4vB54P0AhVDQjABHUQOBdsQ_AUICSgC',\n",
       " '/search?q=yahoo+finance+VYGVF&ie=UTF-8&tbm=vid&source=lnms&sa=X&ved=0ahUKEwia-4vB54P0AhVDQjABHUQOBdsQ_AUICigD',\n",
       " '/search?q=yahoo+finance+VYGVF&ie=UTF-8&tbm=isch&source=lnms&sa=X&ved=0ahUKEwia-4vB54P0AhVDQjABHUQOBdsQ_AUICygE',\n",
       " 'https://maps.google.com/maps?q=yahoo+finance+VYGVF&um=1&ie=UTF-8&sa=X&ved=0ahUKEwia-4vB54P0AhVDQjABHUQOBdsQ_AUIDCgF',\n",
       " '/search?q=yahoo+finance+VYGVF&ie=UTF-8&tbm=bks&source=lnms&sa=X&ved=0ahUKEwia-4vB54P0AhVDQjABHUQOBdsQ_AUIDSgG',\n",
       " '/advanced_search',\n",
       " '/search?q=yahoo+finance+VYGVF&ie=UTF-8&tbm=nws&source=lnt&tbs=qdr:h&sa=X&ved=0ahUKEwia-4vB54P0AhVDQjABHUQOBdsQpwUIDw',\n",
       " '/search?q=yahoo+finance+VYGVF&ie=UTF-8&tbm=nws&source=lnt&tbs=qdr:d&sa=X&ved=0ahUKEwia-4vB54P0AhVDQjABHUQOBdsQpwUIEA',\n",
       " '/search?q=yahoo+finance+VYGVF&ie=UTF-8&tbm=nws&source=lnt&tbs=qdr:w&sa=X&ved=0ahUKEwia-4vB54P0AhVDQjABHUQOBdsQpwUIEQ',\n",
       " '/search?q=yahoo+finance+VYGVF&ie=UTF-8&tbm=nws&source=lnt&tbs=qdr:m&sa=X&ved=0ahUKEwia-4vB54P0AhVDQjABHUQOBdsQpwUIEg',\n",
       " '/search?q=yahoo+finance+VYGVF&ie=UTF-8&tbm=nws&source=lnt&tbs=qdr:y&sa=X&ved=0ahUKEwia-4vB54P0AhVDQjABHUQOBdsQpwUIEw',\n",
       " '/search?q=yahoo+finance+VYGVF&ie=UTF-8&tbm=nws&source=lnt&tbs=ar:1&sa=X&ved=0ahUKEwia-4vB54P0AhVDQjABHUQOBdsQpwUIFA',\n",
       " '/search?q=yahoo+finance+VYGVF&ie=UTF-8&tbm=nws&source=lnt&tbs=sbd:1&sa=X&ved=0ahUKEwia-4vB54P0AhVDQjABHUQOBdsQpwUIFg',\n",
       " '/url?q=https://finance.yahoo.com/news/voyager-digital-secures-75-million-114500730.html&sa=U&ved=2ahUKEwia-4vB54P0AhVDQjABHUQOBdsQxfQBegQIAhAB&usg=AOvVaw1ri4NTRjO1mfoNrLRakLKM',\n",
       " '/url?q=https://finance.yahoo.com/news/voyager-digital-secures-75-million-114500730.html&sa=U&ved=2ahUKEwia-4vB54P0AhVDQjABHUQOBdsQ0Y8FegQIAhAC&usg=AOvVaw2QoPZB5Q3IPiHBO629Z4V_',\n",
       " '/url?q=https://finance.yahoo.com/news/voyager-digital-becomes-official-cryptocurrency-154300849.html&sa=U&ved=2ahUKEwia-4vB54P0AhVDQjABHUQOBdsQxfQBegQIBxAB&usg=AOvVaw1RRfpMlPrt6iAFVcscHRx8',\n",
       " '/url?q=https://finance.yahoo.com/news/voyager-digital-becomes-official-cryptocurrency-154300849.html&sa=U&ved=2ahUKEwia-4vB54P0AhVDQjABHUQOBdsQ0Y8FegQIBxAC&usg=AOvVaw1NyJMx1HZSSbXVaMRik5iH',\n",
       " '/url?q=https://finance.yahoo.com/news/voyager-digital-reports-revenue-us-121700287.html&sa=U&ved=2ahUKEwia-4vB54P0AhVDQjABHUQOBdsQxfQBegQICBAB&usg=AOvVaw2NK0ytO2pDGsc0NnaS10an',\n",
       " '/url?q=https://finance.yahoo.com/news/voyager-digital-reports-revenue-us-121700287.html&sa=U&ved=2ahUKEwia-4vB54P0AhVDQjABHUQOBdsQ0Y8FegQICBAC&usg=AOvVaw2hhiQMsonrOQGy3Ykz14Uk',\n",
       " '/url?q=https://finance.yahoo.com/news/voyager-digital-business-quarter-ended-120000046.html&sa=U&ved=2ahUKEwia-4vB54P0AhVDQjABHUQOBdsQxfQBegQICRAB&usg=AOvVaw3AuynL7OAdJkJbzekwFMlO',\n",
       " '/url?q=https://finance.yahoo.com/news/voyager-digital-business-quarter-ended-120000046.html&sa=U&ved=2ahUKEwia-4vB54P0AhVDQjABHUQOBdsQ0Y8FegQICRAC&usg=AOvVaw3TlBfJSLC4zKDvDn3JT1zd',\n",
       " '/url?q=https://finance.yahoo.com/news/voyager-digital-market-rebellion-announce-120000107.html&sa=U&ved=2ahUKEwia-4vB54P0AhVDQjABHUQOBdsQxfQBegQIARAB&usg=AOvVaw31-8gwMfo-cqHmoB7yEtby',\n",
       " '/url?q=https://finance.yahoo.com/news/voyager-digital-market-rebellion-announce-120000107.html&sa=U&ved=2ahUKEwia-4vB54P0AhVDQjABHUQOBdsQ0Y8FegQIARAC&usg=AOvVaw1GBa0Zo0gY1LCm6KeRKwPP',\n",
       " '/url?q=https://finance.yahoo.com/news/voyager-digital-announces-record-quarterly-200500164.html&sa=U&ved=2ahUKEwia-4vB54P0AhVDQjABHUQOBdsQxfQBegQIABAB&usg=AOvVaw15DARCKqbwBASU-ZSLoXtx',\n",
       " '/url?q=https://finance.yahoo.com/news/voyager-digital-announces-record-quarterly-200500164.html&sa=U&ved=2ahUKEwia-4vB54P0AhVDQjABHUQOBdsQ0Y8FegQIABAC&usg=AOvVaw2yjAPFqMPTZep3Z7coN33M',\n",
       " '/url?q=https://finance.yahoo.com/news/voyager-digital-announces-conditional-approval-120000242.html&sa=U&ved=2ahUKEwia-4vB54P0AhVDQjABHUQOBdsQxfQBegQIBhAB&usg=AOvVaw2BFX52FllLH3wFllHua3Qn',\n",
       " '/url?q=https://finance.yahoo.com/news/voyager-digital-announces-conditional-approval-120000242.html&sa=U&ved=2ahUKEwia-4vB54P0AhVDQjABHUQOBdsQ0Y8FegQIBhAC&usg=AOvVaw2dtAjdwtJuAe6Qm7ma1TKC',\n",
       " '/url?q=https://finance.yahoo.com/news/voyager-digital-acquires-leading-global-130000594.html&sa=U&ved=2ahUKEwia-4vB54P0AhVDQjABHUQOBdsQxfQBegQIBRAB&usg=AOvVaw0UiORvfruPt-IOATwiUJ4m',\n",
       " '/url?q=https://finance.yahoo.com/news/voyager-digital-acquires-leading-global-130000594.html&sa=U&ved=2ahUKEwia-4vB54P0AhVDQjABHUQOBdsQ0Y8FegQIBRAC&usg=AOvVaw3wyka_BEJmF_FFOna4J8mT',\n",
       " '/url?q=https://finance.yahoo.com/news/voyager-digital-announces-participation-september-120000518.html&sa=U&ved=2ahUKEwia-4vB54P0AhVDQjABHUQOBdsQxfQBegQIBBAB&usg=AOvVaw1gl6NfD9fxDJseXdUtrNXJ',\n",
       " '/url?q=https://finance.yahoo.com/news/voyager-digital-announces-participation-september-120000518.html&sa=U&ved=2ahUKEwia-4vB54P0AhVDQjABHUQOBdsQ0Y8FegQIBBAC&usg=AOvVaw1o8tHk7pDXGV0FwWHOfBPY',\n",
       " '/url?q=https://finance.yahoo.com/news/voyager-digital-provides-business-april-120000956.html&sa=U&ved=2ahUKEwia-4vB54P0AhVDQjABHUQOBdsQxfQBegQIAxAB&usg=AOvVaw0uxfSaCdpuMwW3K64-_dVK',\n",
       " '/url?q=https://finance.yahoo.com/news/voyager-digital-provides-business-april-120000956.html&sa=U&ved=2ahUKEwia-4vB54P0AhVDQjABHUQOBdsQ0Y8FegQIAxAC&usg=AOvVaw1QqqbXxdRgigHSA2jdKU0s',\n",
       " '/search?q=yahoo+finance+VYGVF&ie=UTF-8&tbm=nws&ei=hn6GYZqgK8OEwbkPxJyU2A0&start=10&sa=N',\n",
       " '/url?q=https://support.google.com/websearch%3Fp%3Dws_settings_location%26hl%3Den&sa=U&ved=0ahUKEwia-4vB54P0AhVDQjABHUQOBdsQty4IVQ&usg=AOvVaw1-V67a5qCPdpri1U14FoUH',\n",
       " '/url?q=https://accounts.google.com/ServiceLogin%3Fcontinue%3Dhttps://www.google.com/search%253Fq%253Dyahoo%252Bfinance%252BVYGVF%2526tbm%253Dnws%26hl%3Den&sa=U&ved=0ahUKEwia-4vB54P0AhVDQjABHUQOBdsQxs8CCFY&usg=AOvVaw0Ld9xqfbe0lMiQ7VJCgwIO',\n",
       " 'https://www.google.com/preferences?hl=en&fg=1&sa=X&ved=0ahUKEwia-4vB54P0AhVDQjABHUQOBdsQ5fUCCFc',\n",
       " 'https://policies.google.com/privacy?hl=en&fg=1',\n",
       " 'https://policies.google.com/terms?hl=en&fg=1']"
      ]
     },
     "execution_count": 13,
     "metadata": {},
     "output_type": "execute_result"
    }
   ],
   "source": [
    "raw_urls['VYGVF']"
   ]
  },
  {
   "cell_type": "markdown",
   "metadata": {},
   "source": [
    "## 3.2. Strip out unwanted URLs"
   ]
  },
  {
   "cell_type": "code",
   "execution_count": 14,
   "metadata": {},
   "outputs": [],
   "source": [
    "import re"
   ]
  },
  {
   "cell_type": "code",
   "execution_count": 15,
   "metadata": {},
   "outputs": [],
   "source": [
    "exclude_list = ['maps', 'policies', 'preferences', 'accounts', 'support']"
   ]
  },
  {
   "cell_type": "code",
   "execution_count": 16,
   "metadata": {},
   "outputs": [],
   "source": [
    "def strip_unwanted_urls(urls, exclude_list):\n",
    "    val = []\n",
    "    for url in urls: \n",
    "        if 'https://' in url and not any(exclude_word in url for exclude_word in exclude_list):\n",
    "            res = re.findall(r'(https?://\\S+)', url)[0].split('&')[0]\n",
    "            val.append(res)\n",
    "    return list(set(val))"
   ]
  },
  {
   "cell_type": "code",
   "execution_count": 17,
   "metadata": {},
   "outputs": [
    {
     "data": {
      "text/plain": [
       "{'VYGVF': ['https://finance.yahoo.com/news/voyager-digital-market-rebellion-announce-120000107.html',\n",
       "  'https://finance.yahoo.com/news/voyager-digital-acquires-leading-global-130000594.html',\n",
       "  'https://finance.yahoo.com/news/voyager-digital-announces-participation-september-120000518.html',\n",
       "  'https://finance.yahoo.com/news/voyager-digital-becomes-official-cryptocurrency-154300849.html',\n",
       "  'https://finance.yahoo.com/news/voyager-digital-announces-conditional-approval-120000242.html',\n",
       "  'https://finance.yahoo.com/news/voyager-digital-provides-business-april-120000956.html',\n",
       "  'https://finance.yahoo.com/news/voyager-digital-secures-75-million-114500730.html',\n",
       "  'https://finance.yahoo.com/news/voyager-digital-announces-record-quarterly-200500164.html',\n",
       "  'https://finance.yahoo.com/news/voyager-digital-business-quarter-ended-120000046.html',\n",
       "  'https://finance.yahoo.com/news/voyager-digital-reports-revenue-us-121700287.html']}"
      ]
     },
     "execution_count": 17,
     "metadata": {},
     "output_type": "execute_result"
    }
   ],
   "source": [
    "cleaned_urls = {ticker:strip_unwanted_urls(raw_urls[ticker], exclude_list) for ticker in monitored_tickers}\n",
    "cleaned_urls"
   ]
  },
  {
   "cell_type": "markdown",
   "metadata": {},
   "source": [
    "## 3.3. Search and Scrape Cleaned URLs"
   ]
  },
  {
   "cell_type": "code",
   "execution_count": 18,
   "metadata": {},
   "outputs": [],
   "source": [
    "def scrape_and_process(URLs):\n",
    "    ARTICLES = []\n",
    "    for url in URLs: \n",
    "        r = requests.get(url)\n",
    "        soup = BeautifulSoup(r.text, 'html.parser')\n",
    "        paragraphs = soup.find_all('p')\n",
    "        text = [paragraph.text for paragraph in paragraphs]\n",
    "        words = ' '.join(text).split(' ')[:250]\n",
    "        ARTICLE = ' '.join(words)\n",
    "        ARTICLES.append(ARTICLE)\n",
    "    return ARTICLES"
   ]
  },
  {
   "cell_type": "code",
   "execution_count": 19,
   "metadata": {},
   "outputs": [
    {
     "data": {
      "text/plain": [
       "{'VYGVF': ['Thank you for your patience. Our engineers are working quickly to resolve the issue.',\n",
       "  'Thank you for your patience. Our engineers are working quickly to resolve the issue.',\n",
       "  'Thank you for your patience. Our engineers are working quickly to resolve the issue.',\n",
       "  ' Voyager is the first international partner of the Dallas Mavericks, joining forces to make crypto more accessible for all TSX: VOYGOTCQX: VYGVFBorse Frankfurt: UCD2 NEW YORK, Oct. 27, 2021 /CNW/ - Voyager Digital Ltd. (\"Voyager\" or the \"Company\") (TSX: VOYG) (OTCQX: VYGVF) (FRA: UCD2), one of the fastest-growing, publicly traded cryptocurrency platforms in the United States, has entered into a five-year exclusive, integrated partnership with the Dallas Mavericks, becoming the team\\'s first cryptocurrency brokerage and international partner. A press conference will be hosted in Dallas today at 4:00 p.m. Central Time to discuss the partnership. To watch, please visit: https://www.mavs.com/voyager/. Voyager and the Dallas Mavericks will work to make cryptocurrency more accessible through educational and community programs, global activations, and fan engagement promotions. The partnership also includes naming rights to the Mavs Gaming Hub, the official gaming and event venue for the Mavs NBA 2K League team, and will be announced at a later date. This partnership makes Voyager the first international partner of the Dallas Mavericks, enabling both parties to reach a wider, global audience to raise brand awareness and drive cryptocurrency adoption around the world. In 2019, the NBA granted teams the ability to provide international sponsorship rights, outside the United States and Canada. \"The Mavs are proud to welcome Voyager to the Dallas Mavericks family,\" said Mavs governor Mark Cuban. \"Crypto assets and applications are changing how business and personal finance are done. We believe our partnership with Voyager will allow Mavs and NBA fans to',\n",
       "  'Thank you for your patience. Our engineers are working quickly to resolve the issue.',\n",
       "  'Thank you for your patience. Our engineers are working quickly to resolve the issue.',\n",
       "  ' TSX: VOYGOTCQX: VYGVFBorse Frankfurt: UCD2 Strategic partnership will focus on execution, asset management, and broader crypto initiatives NEW YORK, Oct. 28, 2021 /PRNewswire/ - Voyager Digital Ltd. (\"Voyager\" or the \"Company\") (TSX: VOYG) (OTCQX: VYGVF) (FRA: UCD2), one of the fastest-growing, publicly traded cryptocurrency platforms in the United States, today announced a $75 million investment from Alameda Research (\"Alameda\"). \"We are excited to enter into a strategic alliance with Alameda, a clear pioneer in the crypto industry,\" said Steve Ehrlich, CEO and Co-founder of Voyager. \"Alameda is one of the largest crypto market makers in the world, and we believe there are significant opportunities in working together. While the immediate opportunity is on the order flow and asset management front, we are tremendously excited about potential future synergistic opportunities in the continuously evolving crypto industry. These opportunities include NFTs and crypto derivatives through Alameda, as well as the creation of thought leadership as we work with lawmakers on shaping regulation.\" \"We are thrilled to be partnering with Voyager as they have emerged as a key player in the retail crypto market,\" commented Caroline Ellison, Co-CEO of Alameda. \"As a public company, we have admired Voyager\\'s transparency in the industry and believe the management team has laid the groundwork to succeed at scale as evidenced by their explosive growth this past year. Through our strategic partnership, we believe there are endless mutually beneficial opportunities to grow both our businesses.\" Alameda Research trades over $5 billion per day across thousands of',\n",
       "  'Thank you for your patience. Our engineers are working quickly to resolve the issue.',\n",
       "  'Thank you for your patience. Our engineers are working quickly to resolve the issue.',\n",
       "  ' TSX: VOYGOTCQX: VYGVFBorse Frankfurt: UCD2 NEW YORK, Oct. 29, 2021 /CNW/ - Voyager Digital Ltd. (\"Voyager\" or the \"Company\") (TSX: VOYG) (OTCQX: VYGVF) (FRA: UCD2), one of the fastest-growing, publicly traded cryptocurrency platforms in the United States, today announced it has filed its full-year consolidated financials for the fiscal year ended June 30, 2021 and is pleased to provide shareholders with a business and operational update. \"Fiscal 2021 was a breakout year for Voyager, positioning our platform to be a leading player in the digital asset arena as crypto and related blockchain technologies are increasingly embraced by the mainstream,\" said Steve Ehrlich, Voyager\\'s CEO and Co-founder. \"Voyager continues to deliver noteworthy performance through verified user and funded account growth punctuated by providing users with a transparent, safe, secure and trusted personal cryptocurrency platform. We continued to see significant net new funded accounts and net new asset inflows on the platform and as we add more product extensions, we believe the ability to leverage our growing user base will accelerate our revenue growth and provide diversification to our revenue mix.\" Fiscal Year 2021 Financial and Business Milestones: Total revenue increased to $175 million, from $1 million in FY20 Operating Income of $56 million, compared to an Operating Loss of $11 million in FY20 Total Verified Users grew to 1.75 million, up from 86,000 at June 30, 2020 Total Funded Accounts grew to 665,000 from 23,000 at June 30, 2020 Total Assets Under Management grew to $2.6 billion from $35 million']}"
      ]
     },
     "execution_count": 19,
     "metadata": {},
     "output_type": "execute_result"
    }
   ],
   "source": [
    "articles = {ticker:scrape_and_process(cleaned_urls[ticker]) for ticker in monitored_tickers}\n",
    "articles"
   ]
  },
  {
   "cell_type": "code",
   "execution_count": 20,
   "metadata": {},
   "outputs": [
    {
     "data": {
      "text/plain": [
       "'Thank you for your patience. Our engineers are working quickly to resolve the issue.'"
      ]
     },
     "execution_count": 20,
     "metadata": {},
     "output_type": "execute_result"
    }
   ],
   "source": [
    "articles['VYGVF'][2]"
   ]
  },
  {
   "cell_type": "markdown",
   "metadata": {},
   "source": [
    "## 3.4. Summarise all Articles"
   ]
  },
  {
   "cell_type": "code",
   "execution_count": 21,
   "metadata": {},
   "outputs": [],
   "source": [
    "def summarize(articles):\n",
    "    summaries = []\n",
    "    for article in articles:\n",
    "        input_ids = tokenizer.encode(article, return_tensors='pt')\n",
    "        output = model.generate(input_ids, max_length=55, num_beams=5, early_stopping=True)\n",
    "        summary = tokenizer.decode(output[0], skip_special_tokens=True)\n",
    "        summaries.append(summary)\n",
    "    return summaries"
   ]
  },
  {
   "cell_type": "code",
   "execution_count": 22,
   "metadata": {},
   "outputs": [
    {
     "data": {
      "text/plain": [
       "{'VYGVF': ['We are aware of the issue and are working to resolve it.',\n",
       "  'We are aware of the issue and are working to resolve it.',\n",
       "  'We are aware of the issue and are working to resolve it.',\n",
       "  'One of the fastest-growing, publicly traded cryptocurrency platforms in the United States. partnership includes naming rights to the Mavs Gaming Hub',\n",
       "  'We are aware of the issue and are working to resolve it.',\n",
       "  'We are aware of the issue and are working to resolve it.',\n",
       "  'Alameda to invest $75 million in Voyager. Partners to focus on execution, asset management, and broader crypto initiatives',\n",
       "  'We are aware of the issue and are working to resolve it.',\n",
       "  'We are aware of the issue and are working to resolve it.',\n",
       "  'Fiscal 2021 was a breakout year for Voyager as crypto and related blockchain technologies increasingly embraced.']}"
      ]
     },
     "execution_count": 22,
     "metadata": {},
     "output_type": "execute_result"
    }
   ],
   "source": [
    "summaries = {ticker:summarize(articles[ticker]) for ticker in monitored_tickers}\n",
    "summaries"
   ]
  },
  {
   "cell_type": "code",
   "execution_count": 23,
   "metadata": {},
   "outputs": [
    {
     "data": {
      "text/plain": [
       "['We are aware of the issue and are working to resolve it.',\n",
       " 'We are aware of the issue and are working to resolve it.',\n",
       " 'We are aware of the issue and are working to resolve it.',\n",
       " 'One of the fastest-growing, publicly traded cryptocurrency platforms in the United States. partnership includes naming rights to the Mavs Gaming Hub',\n",
       " 'We are aware of the issue and are working to resolve it.',\n",
       " 'We are aware of the issue and are working to resolve it.',\n",
       " 'Alameda to invest $75 million in Voyager. Partners to focus on execution, asset management, and broader crypto initiatives',\n",
       " 'We are aware of the issue and are working to resolve it.',\n",
       " 'We are aware of the issue and are working to resolve it.',\n",
       " 'Fiscal 2021 was a breakout year for Voyager as crypto and related blockchain technologies increasingly embraced.']"
      ]
     },
     "execution_count": 23,
     "metadata": {},
     "output_type": "execute_result"
    }
   ],
   "source": [
    "summaries['VYGVF']"
   ]
  },
  {
   "cell_type": "markdown",
   "metadata": {},
   "source": [
    "# 4. Adding Sentiment Analysis"
   ]
  },
  {
   "cell_type": "code",
   "execution_count": 24,
   "metadata": {},
   "outputs": [],
   "source": [
    "from transformers import pipeline\n",
    "sentiment = pipeline('sentiment-analysis')"
   ]
  },
  {
   "cell_type": "code",
   "execution_count": 25,
   "metadata": {},
   "outputs": [
    {
     "data": {
      "text/plain": [
       "[{'label': 'POSITIVE', 'score': 0.9979087710380554},\n",
       " {'label': 'POSITIVE', 'score': 0.9979087710380554},\n",
       " {'label': 'POSITIVE', 'score': 0.9979087710380554},\n",
       " {'label': 'POSITIVE', 'score': 0.9991520047187805},\n",
       " {'label': 'POSITIVE', 'score': 0.9979087710380554},\n",
       " {'label': 'POSITIVE', 'score': 0.9979087710380554},\n",
       " {'label': 'POSITIVE', 'score': 0.9869519472122192},\n",
       " {'label': 'POSITIVE', 'score': 0.9979087710380554},\n",
       " {'label': 'POSITIVE', 'score': 0.9979087710380554},\n",
       " {'label': 'POSITIVE', 'score': 0.996300220489502}]"
      ]
     },
     "execution_count": 25,
     "metadata": {},
     "output_type": "execute_result"
    }
   ],
   "source": [
    "sentiment(summaries['VYGVF'])"
   ]
  },
  {
   "cell_type": "code",
   "execution_count": 26,
   "metadata": {},
   "outputs": [
    {
     "data": {
      "text/plain": [
       "{'VYGVF': [{'label': 'POSITIVE', 'score': 0.9979087710380554},\n",
       "  {'label': 'POSITIVE', 'score': 0.9979087710380554},\n",
       "  {'label': 'POSITIVE', 'score': 0.9979087710380554},\n",
       "  {'label': 'POSITIVE', 'score': 0.9991520047187805},\n",
       "  {'label': 'POSITIVE', 'score': 0.9979087710380554},\n",
       "  {'label': 'POSITIVE', 'score': 0.9979087710380554},\n",
       "  {'label': 'POSITIVE', 'score': 0.9869519472122192},\n",
       "  {'label': 'POSITIVE', 'score': 0.9979087710380554},\n",
       "  {'label': 'POSITIVE', 'score': 0.9979087710380554},\n",
       "  {'label': 'POSITIVE', 'score': 0.996300220489502}]}"
      ]
     },
     "execution_count": 26,
     "metadata": {},
     "output_type": "execute_result"
    }
   ],
   "source": [
    "scores = {ticker:sentiment(summaries[ticker]) for ticker in monitored_tickers}\n",
    "scores"
   ]
  },
  {
   "cell_type": "code",
   "execution_count": 27,
   "metadata": {},
   "outputs": [
    {
     "name": "stdout",
     "output_type": "stream",
     "text": [
      "One of the fastest-growing, publicly traded cryptocurrency platforms in the United States. partnership includes naming rights to the Mavs Gaming Hub POSITIVE 0.9991520047187805\n"
     ]
    }
   ],
   "source": [
    "print(summaries['VYGVF'][3], scores['VYGVF'][3]['label'], scores['VYGVF'][3]['score'])"
   ]
  },
  {
   "cell_type": "code",
   "execution_count": 28,
   "metadata": {},
   "outputs": [
    {
     "data": {
      "text/plain": [
       "0.9979087710380554"
      ]
     },
     "execution_count": 28,
     "metadata": {},
     "output_type": "execute_result"
    }
   ],
   "source": [
    "scores['VYGVF'][0]['score']"
   ]
  },
  {
   "cell_type": "markdown",
   "metadata": {},
   "source": [
    "# 5. Exporting Results to CSV"
   ]
  },
  {
   "cell_type": "code",
   "execution_count": 29,
   "metadata": {},
   "outputs": [
    {
     "data": {
      "text/plain": [
       "{'VYGVF': ['We are aware of the issue and are working to resolve it.',\n",
       "  'We are aware of the issue and are working to resolve it.',\n",
       "  'We are aware of the issue and are working to resolve it.',\n",
       "  'One of the fastest-growing, publicly traded cryptocurrency platforms in the United States. partnership includes naming rights to the Mavs Gaming Hub',\n",
       "  'We are aware of the issue and are working to resolve it.',\n",
       "  'We are aware of the issue and are working to resolve it.',\n",
       "  'Alameda to invest $75 million in Voyager. Partners to focus on execution, asset management, and broader crypto initiatives',\n",
       "  'We are aware of the issue and are working to resolve it.',\n",
       "  'We are aware of the issue and are working to resolve it.',\n",
       "  'Fiscal 2021 was a breakout year for Voyager as crypto and related blockchain technologies increasingly embraced.']}"
      ]
     },
     "execution_count": 29,
     "metadata": {},
     "output_type": "execute_result"
    }
   ],
   "source": [
    "summaries"
   ]
  },
  {
   "cell_type": "code",
   "execution_count": 30,
   "metadata": {},
   "outputs": [
    {
     "data": {
      "text/plain": [
       "{'VYGVF': [{'label': 'POSITIVE', 'score': 0.9979087710380554},\n",
       "  {'label': 'POSITIVE', 'score': 0.9979087710380554},\n",
       "  {'label': 'POSITIVE', 'score': 0.9979087710380554},\n",
       "  {'label': 'POSITIVE', 'score': 0.9991520047187805},\n",
       "  {'label': 'POSITIVE', 'score': 0.9979087710380554},\n",
       "  {'label': 'POSITIVE', 'score': 0.9979087710380554},\n",
       "  {'label': 'POSITIVE', 'score': 0.9869519472122192},\n",
       "  {'label': 'POSITIVE', 'score': 0.9979087710380554},\n",
       "  {'label': 'POSITIVE', 'score': 0.9979087710380554},\n",
       "  {'label': 'POSITIVE', 'score': 0.996300220489502}]}"
      ]
     },
     "execution_count": 30,
     "metadata": {},
     "output_type": "execute_result"
    }
   ],
   "source": [
    "scores"
   ]
  },
  {
   "cell_type": "code",
   "execution_count": 31,
   "metadata": {},
   "outputs": [
    {
     "data": {
      "text/plain": [
       "{'VYGVF': ['https://finance.yahoo.com/news/voyager-digital-market-rebellion-announce-120000107.html',\n",
       "  'https://finance.yahoo.com/news/voyager-digital-acquires-leading-global-130000594.html',\n",
       "  'https://finance.yahoo.com/news/voyager-digital-announces-participation-september-120000518.html',\n",
       "  'https://finance.yahoo.com/news/voyager-digital-becomes-official-cryptocurrency-154300849.html',\n",
       "  'https://finance.yahoo.com/news/voyager-digital-announces-conditional-approval-120000242.html',\n",
       "  'https://finance.yahoo.com/news/voyager-digital-provides-business-april-120000956.html',\n",
       "  'https://finance.yahoo.com/news/voyager-digital-secures-75-million-114500730.html',\n",
       "  'https://finance.yahoo.com/news/voyager-digital-announces-record-quarterly-200500164.html',\n",
       "  'https://finance.yahoo.com/news/voyager-digital-business-quarter-ended-120000046.html',\n",
       "  'https://finance.yahoo.com/news/voyager-digital-reports-revenue-us-121700287.html']}"
      ]
     },
     "execution_count": 31,
     "metadata": {},
     "output_type": "execute_result"
    }
   ],
   "source": [
    "cleaned_urls"
   ]
  },
  {
   "cell_type": "code",
   "execution_count": 32,
   "metadata": {},
   "outputs": [
    {
     "data": {
      "text/plain": [
       "range(0, 10)"
      ]
     },
     "execution_count": 32,
     "metadata": {},
     "output_type": "execute_result"
    }
   ],
   "source": [
    "range(len(summaries['VYGVF']))"
   ]
  },
  {
   "cell_type": "code",
   "execution_count": 33,
   "metadata": {},
   "outputs": [
    {
     "data": {
      "text/plain": [
       "'One of the fastest-growing, publicly traded cryptocurrency platforms in the United States. partnership includes naming rights to the Mavs Gaming Hub'"
      ]
     },
     "execution_count": 33,
     "metadata": {},
     "output_type": "execute_result"
    }
   ],
   "source": [
    "summaries['VYGVF'][3]"
   ]
  },
  {
   "cell_type": "code",
   "execution_count": 34,
   "metadata": {},
   "outputs": [],
   "source": [
    "def create_output_array(summaries, scores, urls):\n",
    "    output = []\n",
    "    for ticker in monitored_tickers:\n",
    "        for counter in range(len(summaries[ticker])):\n",
    "            output_this = [\n",
    "                ticker,\n",
    "                summaries[ticker][counter],\n",
    "                scores[ticker][counter]['label'],\n",
    "                scores[ticker][counter]['score'],\n",
    "                urls[ticker][counter]\n",
    "            ]\n",
    "            output.append(output_this)\n",
    "    return output"
   ]
  },
  {
   "cell_type": "code",
   "execution_count": 35,
   "metadata": {},
   "outputs": [
    {
     "data": {
      "text/plain": [
       "[['VYGVF',\n",
       "  'We are aware of the issue and are working to resolve it.',\n",
       "  'POSITIVE',\n",
       "  0.9979087710380554,\n",
       "  'https://finance.yahoo.com/news/voyager-digital-market-rebellion-announce-120000107.html'],\n",
       " ['VYGVF',\n",
       "  'We are aware of the issue and are working to resolve it.',\n",
       "  'POSITIVE',\n",
       "  0.9979087710380554,\n",
       "  'https://finance.yahoo.com/news/voyager-digital-acquires-leading-global-130000594.html'],\n",
       " ['VYGVF',\n",
       "  'We are aware of the issue and are working to resolve it.',\n",
       "  'POSITIVE',\n",
       "  0.9979087710380554,\n",
       "  'https://finance.yahoo.com/news/voyager-digital-announces-participation-september-120000518.html'],\n",
       " ['VYGVF',\n",
       "  'One of the fastest-growing, publicly traded cryptocurrency platforms in the United States. partnership includes naming rights to the Mavs Gaming Hub',\n",
       "  'POSITIVE',\n",
       "  0.9991520047187805,\n",
       "  'https://finance.yahoo.com/news/voyager-digital-becomes-official-cryptocurrency-154300849.html'],\n",
       " ['VYGVF',\n",
       "  'We are aware of the issue and are working to resolve it.',\n",
       "  'POSITIVE',\n",
       "  0.9979087710380554,\n",
       "  'https://finance.yahoo.com/news/voyager-digital-announces-conditional-approval-120000242.html'],\n",
       " ['VYGVF',\n",
       "  'We are aware of the issue and are working to resolve it.',\n",
       "  'POSITIVE',\n",
       "  0.9979087710380554,\n",
       "  'https://finance.yahoo.com/news/voyager-digital-provides-business-april-120000956.html'],\n",
       " ['VYGVF',\n",
       "  'Alameda to invest $75 million in Voyager. Partners to focus on execution, asset management, and broader crypto initiatives',\n",
       "  'POSITIVE',\n",
       "  0.9869519472122192,\n",
       "  'https://finance.yahoo.com/news/voyager-digital-secures-75-million-114500730.html'],\n",
       " ['VYGVF',\n",
       "  'We are aware of the issue and are working to resolve it.',\n",
       "  'POSITIVE',\n",
       "  0.9979087710380554,\n",
       "  'https://finance.yahoo.com/news/voyager-digital-announces-record-quarterly-200500164.html'],\n",
       " ['VYGVF',\n",
       "  'We are aware of the issue and are working to resolve it.',\n",
       "  'POSITIVE',\n",
       "  0.9979087710380554,\n",
       "  'https://finance.yahoo.com/news/voyager-digital-business-quarter-ended-120000046.html'],\n",
       " ['VYGVF',\n",
       "  'Fiscal 2021 was a breakout year for Voyager as crypto and related blockchain technologies increasingly embraced.',\n",
       "  'POSITIVE',\n",
       "  0.996300220489502,\n",
       "  'https://finance.yahoo.com/news/voyager-digital-reports-revenue-us-121700287.html']]"
      ]
     },
     "execution_count": 35,
     "metadata": {},
     "output_type": "execute_result"
    }
   ],
   "source": [
    "final_output = create_output_array(summaries, scores, cleaned_urls)\n",
    "final_output"
   ]
  },
  {
   "cell_type": "code",
   "execution_count": 36,
   "metadata": {},
   "outputs": [],
   "source": [
    "final_output.insert(0, ['Ticker', 'Summary', 'Label', 'Confidence', 'URL'])"
   ]
  },
  {
   "cell_type": "code",
   "execution_count": 37,
   "metadata": {},
   "outputs": [
    {
     "data": {
      "text/plain": [
       "[['Ticker', 'Summary', 'Label', 'Confidence', 'URL'],\n",
       " ['VYGVF',\n",
       "  'We are aware of the issue and are working to resolve it.',\n",
       "  'POSITIVE',\n",
       "  0.9979087710380554,\n",
       "  'https://finance.yahoo.com/news/voyager-digital-market-rebellion-announce-120000107.html'],\n",
       " ['VYGVF',\n",
       "  'We are aware of the issue and are working to resolve it.',\n",
       "  'POSITIVE',\n",
       "  0.9979087710380554,\n",
       "  'https://finance.yahoo.com/news/voyager-digital-acquires-leading-global-130000594.html'],\n",
       " ['VYGVF',\n",
       "  'We are aware of the issue and are working to resolve it.',\n",
       "  'POSITIVE',\n",
       "  0.9979087710380554,\n",
       "  'https://finance.yahoo.com/news/voyager-digital-announces-participation-september-120000518.html'],\n",
       " ['VYGVF',\n",
       "  'One of the fastest-growing, publicly traded cryptocurrency platforms in the United States. partnership includes naming rights to the Mavs Gaming Hub',\n",
       "  'POSITIVE',\n",
       "  0.9991520047187805,\n",
       "  'https://finance.yahoo.com/news/voyager-digital-becomes-official-cryptocurrency-154300849.html'],\n",
       " ['VYGVF',\n",
       "  'We are aware of the issue and are working to resolve it.',\n",
       "  'POSITIVE',\n",
       "  0.9979087710380554,\n",
       "  'https://finance.yahoo.com/news/voyager-digital-announces-conditional-approval-120000242.html'],\n",
       " ['VYGVF',\n",
       "  'We are aware of the issue and are working to resolve it.',\n",
       "  'POSITIVE',\n",
       "  0.9979087710380554,\n",
       "  'https://finance.yahoo.com/news/voyager-digital-provides-business-april-120000956.html'],\n",
       " ['VYGVF',\n",
       "  'Alameda to invest $75 million in Voyager. Partners to focus on execution, asset management, and broader crypto initiatives',\n",
       "  'POSITIVE',\n",
       "  0.9869519472122192,\n",
       "  'https://finance.yahoo.com/news/voyager-digital-secures-75-million-114500730.html'],\n",
       " ['VYGVF',\n",
       "  'We are aware of the issue and are working to resolve it.',\n",
       "  'POSITIVE',\n",
       "  0.9979087710380554,\n",
       "  'https://finance.yahoo.com/news/voyager-digital-announces-record-quarterly-200500164.html'],\n",
       " ['VYGVF',\n",
       "  'We are aware of the issue and are working to resolve it.',\n",
       "  'POSITIVE',\n",
       "  0.9979087710380554,\n",
       "  'https://finance.yahoo.com/news/voyager-digital-business-quarter-ended-120000046.html'],\n",
       " ['VYGVF',\n",
       "  'Fiscal 2021 was a breakout year for Voyager as crypto and related blockchain technologies increasingly embraced.',\n",
       "  'POSITIVE',\n",
       "  0.996300220489502,\n",
       "  'https://finance.yahoo.com/news/voyager-digital-reports-revenue-us-121700287.html']]"
      ]
     },
     "execution_count": 37,
     "metadata": {},
     "output_type": "execute_result"
    }
   ],
   "source": [
    "final_output"
   ]
  },
  {
   "cell_type": "code",
   "execution_count": 38,
   "metadata": {},
   "outputs": [
    {
     "ename": "PermissionError",
     "evalue": "[Errno 13] Permission denied: 'assetsummaries.csv'",
     "output_type": "error",
     "traceback": [
      "\u001b[1;31m---------------------------------------------------------------------------\u001b[0m",
      "\u001b[1;31mPermissionError\u001b[0m                           Traceback (most recent call last)",
      "\u001b[1;32m~\\AppData\\Local\\Temp/ipykernel_22104/310611384.py\u001b[0m in \u001b[0;36m<module>\u001b[1;34m\u001b[0m\n\u001b[0;32m      1\u001b[0m \u001b[1;32mimport\u001b[0m \u001b[0mcsv\u001b[0m\u001b[1;33m\u001b[0m\u001b[1;33m\u001b[0m\u001b[0m\n\u001b[1;32m----> 2\u001b[1;33m \u001b[1;32mwith\u001b[0m \u001b[0mopen\u001b[0m\u001b[1;33m(\u001b[0m\u001b[1;34m'assetsummaries.csv'\u001b[0m\u001b[1;33m,\u001b[0m \u001b[0mmode\u001b[0m\u001b[1;33m=\u001b[0m\u001b[1;34m'w'\u001b[0m\u001b[1;33m,\u001b[0m \u001b[0mnewline\u001b[0m\u001b[1;33m=\u001b[0m\u001b[1;34m''\u001b[0m\u001b[1;33m)\u001b[0m \u001b[1;32mas\u001b[0m \u001b[0mf\u001b[0m\u001b[1;33m:\u001b[0m\u001b[1;33m\u001b[0m\u001b[1;33m\u001b[0m\u001b[0m\n\u001b[0m\u001b[0;32m      3\u001b[0m     \u001b[0mcsv_writer\u001b[0m \u001b[1;33m=\u001b[0m \u001b[0mcsv\u001b[0m\u001b[1;33m.\u001b[0m\u001b[0mwriter\u001b[0m\u001b[1;33m(\u001b[0m\u001b[0mf\u001b[0m\u001b[1;33m,\u001b[0m \u001b[0mdelimiter\u001b[0m\u001b[1;33m=\u001b[0m\u001b[1;34m','\u001b[0m\u001b[1;33m,\u001b[0m \u001b[0mquotechar\u001b[0m\u001b[1;33m=\u001b[0m\u001b[1;34m'\"'\u001b[0m\u001b[1;33m,\u001b[0m \u001b[0mquoting\u001b[0m\u001b[1;33m=\u001b[0m\u001b[0mcsv\u001b[0m\u001b[1;33m.\u001b[0m\u001b[0mQUOTE_MINIMAL\u001b[0m\u001b[1;33m)\u001b[0m\u001b[1;33m\u001b[0m\u001b[1;33m\u001b[0m\u001b[0m\n\u001b[0;32m      4\u001b[0m     \u001b[0mcsv_writer\u001b[0m\u001b[1;33m.\u001b[0m\u001b[0mwriterows\u001b[0m\u001b[1;33m(\u001b[0m\u001b[0mfinal_output\u001b[0m\u001b[1;33m)\u001b[0m\u001b[1;33m\u001b[0m\u001b[1;33m\u001b[0m\u001b[0m\n",
      "\u001b[1;31mPermissionError\u001b[0m: [Errno 13] Permission denied: 'assetsummaries.csv'"
     ]
    }
   ],
   "source": [
    "import csv\n",
    "with open('assetsummaries.csv', mode='w', newline='') as f:\n",
    "    csv_writer = csv.writer(f, delimiter=',', quotechar='\"', quoting=csv.QUOTE_MINIMAL)\n",
    "    csv_writer.writerows(final_output)"
   ]
  },
  {
   "cell_type": "code",
   "execution_count": null,
   "metadata": {},
   "outputs": [],
   "source": []
  },
  {
   "cell_type": "code",
   "execution_count": null,
   "metadata": {},
   "outputs": [],
   "source": []
  },
  {
   "cell_type": "code",
   "execution_count": null,
   "metadata": {},
   "outputs": [],
   "source": []
  }
 ],
 "metadata": {
  "kernelspec": {
   "display_name": "Python 3 (ipykernel)",
   "language": "python",
   "name": "python3"
  },
  "language_info": {
   "codemirror_mode": {
    "name": "ipython",
    "version": 3
   },
   "file_extension": ".py",
   "mimetype": "text/x-python",
   "name": "python",
   "nbconvert_exporter": "python",
   "pygments_lexer": "ipython3",
   "version": "3.8.5"
  }
 },
 "nbformat": 4,
 "nbformat_minor": 4
}
